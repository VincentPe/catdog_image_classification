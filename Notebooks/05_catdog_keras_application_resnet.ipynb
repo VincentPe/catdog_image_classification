{
  "nbformat": 4,
  "nbformat_minor": 0,
  "metadata": {
    "colab": {
      "name": "application_resnet.ipynb",
      "provenance": [],
      "collapsed_sections": []
    },
    "kernelspec": {
      "name": "python3",
      "display_name": "Python 3"
    },
    "accelerator": "GPU"
  },
  "cells": [
    {
      "cell_type": "code",
      "metadata": {
        "id": "C107KZTa5uMM",
        "outputId": "ea6389d8-4ff3-45ab-ad8b-2c30d134c040",
        "colab": {
          "base_uri": "https://localhost:8080/"
        }
      },
      "source": [
        "from google.colab import drive, files\n",
        "drive.mount('/content/drive/')"
      ],
      "execution_count": null,
      "outputs": [
        {
          "output_type": "stream",
          "text": [
            "Mounted at /content/drive/\n"
          ],
          "name": "stdout"
        }
      ]
    },
    {
      "cell_type": "code",
      "metadata": {
        "id": "UDEAJAz45xkn",
        "outputId": "3b1cb7f9-71e6-483b-9197-3b62ec84fe58",
        "colab": {
          "resources": {
            "http://localhost:8080/nbextensions/google.colab/files.js": {
              "data": "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",
              "ok": true,
              "headers": [
                [
                  "content-type",
                  "application/javascript"
                ]
              ],
              "status": 200,
              "status_text": ""
            }
          },
          "base_uri": "https://localhost:8080/",
          "height": 73
        }
      },
      "source": [
        "# Upload kaggle api key\n",
        "! pip install -q kaggle\n",
        "files.upload()\n",
        "\n",
        "! mkdir ~/.kaggle\n",
        "! cp kaggle.json ~/.kaggle/\n",
        "! chmod 600 ~/.kaggle/kaggle.json"
      ],
      "execution_count": null,
      "outputs": [
        {
          "output_type": "display_data",
          "data": {
            "text/html": [
              "\n",
              "     <input type=\"file\" id=\"files-19445498-1f8d-467a-938f-a638017c3887\" name=\"files[]\" multiple disabled\n",
              "        style=\"border:none\" />\n",
              "     <output id=\"result-19445498-1f8d-467a-938f-a638017c3887\">\n",
              "      Upload widget is only available when the cell has been executed in the\n",
              "      current browser session. Please rerun this cell to enable.\n",
              "      </output>\n",
              "      <script src=\"/nbextensions/google.colab/files.js\"></script> "
            ],
            "text/plain": [
              "<IPython.core.display.HTML object>"
            ]
          },
          "metadata": {
            "tags": []
          }
        },
        {
          "output_type": "stream",
          "text": [
            "Saving kaggle.json to kaggle.json\n"
          ],
          "name": "stdout"
        }
      ]
    },
    {
      "cell_type": "code",
      "metadata": {
        "id": "DSZx6Y7I6Da-",
        "outputId": "893b1ea2-8706-4745-ea8c-cca0152dbba6",
        "colab": {
          "base_uri": "https://localhost:8080/"
        }
      },
      "source": [
        "# Fetch train and test data from kaggle\n",
        "! kaggle competitions download -c dogs-vs-cats-redux-kernels-edition\n",
        "\n",
        "! mkdir train\n",
        "! unzip train.zip -d train > downloadlog.txt\n",
        "\n",
        "! mkdir test\n",
        "! unzip test.zip -d test >> downloadlog.txt"
      ],
      "execution_count": null,
      "outputs": [
        {
          "output_type": "stream",
          "text": [
            "Warning: Looks like you're using an outdated API Version, please consider updating (server 1.5.9 / client 1.5.4)\n",
            "Downloading train.zip to /content\n",
            " 98% 531M/544M [00:04<00:00, 158MB/s]\n",
            "100% 544M/544M [00:04<00:00, 129MB/s]\n",
            "Downloading test.zip to /content\n",
            " 97% 262M/271M [00:02<00:00, 80.2MB/s]\n",
            "100% 271M/271M [00:02<00:00, 97.1MB/s]\n",
            "Downloading sample_submission.csv to /content\n",
            "  0% 0.00/111k [00:00<?, ?B/s]\n",
            "100% 111k/111k [00:00<00:00, 113MB/s]\n"
          ],
          "name": "stdout"
        }
      ]
    },
    {
      "cell_type": "code",
      "metadata": {
        "id": "n2B_ohd26HO8"
      },
      "source": [
        "import glob\n",
        "import os\n",
        "import cv2\n",
        "import math\n",
        "import datetime\n",
        "import sys\n",
        "import tensorflow as tf\n",
        "import numpy as np\n",
        "import matplotlib.pyplot as plt\n",
        "import pandas as pd\n",
        "import shutil\n",
        "\n",
        "from PIL import Image\n",
        "from tqdm import tqdm\n",
        "from pylab import rcParams\n",
        "from sklearn.model_selection import train_test_split\n",
        "from sklearn.metrics import confusion_matrix, accuracy_score, log_loss\n",
        "\n",
        "from tensorflow.keras.callbacks import *\n",
        "from tensorflow.keras import backend as K\n",
        "from tensorflow import Tensor\n",
        "from tensorflow.keras.layers import Input, Add, Dense, Activation, ZeroPadding2D, BatchNormalization, Flatten, Conv2D, AveragePooling2D, MaxPooling2D, GlobalMaxPooling2D\n",
        "from tensorflow.keras.models import Model\n",
        "from tensorflow.keras.initializers import glorot_uniform\n",
        "from keras.preprocessing.image import ImageDataGenerator\n",
        "from keras import applications\n",
        "from keras.callbacks import Callback"
      ],
      "execution_count": null,
      "outputs": []
    },
    {
      "cell_type": "code",
      "metadata": {
        "id": "LLFjvPWW6UD2",
        "outputId": "f086c37c-6526-4d9f-c8aa-189a2414f1cb",
        "colab": {
          "base_uri": "https://localhost:8080/"
        }
      },
      "source": [
        "# Check dirs on VM\n",
        "os.listdir()"
      ],
      "execution_count": null,
      "outputs": [
        {
          "output_type": "execute_result",
          "data": {
            "text/plain": [
              "['.config',\n",
              " 'test',\n",
              " 'drive',\n",
              " 'test.zip',\n",
              " 'train.zip',\n",
              " 'kaggle.json',\n",
              " 'downloadlog.txt',\n",
              " 'sample_submission.csv',\n",
              " 'train',\n",
              " 'sample_data']"
            ]
          },
          "metadata": {
            "tags": []
          },
          "execution_count": 5
        }
      ]
    },
    {
      "cell_type": "code",
      "metadata": {
        "id": "gUihB-hd6WVG"
      },
      "source": [
        "# Import UDFs\n",
        "os.chdir('drive/My Drive/collab')\n",
        "from helper_functions import *"
      ],
      "execution_count": null,
      "outputs": []
    },
    {
      "cell_type": "code",
      "metadata": {
        "id": "CjyoCiG_6YOV"
      },
      "source": [
        "# Settings\n",
        "INITIAL_TRAIN_DIR = 'train/train/' \n",
        "COMP_DIR = 'test/test/' \n",
        "\n",
        "train_data_dir = 'data/train'\n",
        "validation_data_dir = 'data/validation'\n",
        "test_data_dir = 'data/test'\n",
        "\n",
        "np.random.seed(0)\n",
        "tf.random.set_seed(0)\n",
        "\n",
        "ROWS = 224\n",
        "COLS = 224\n",
        "CHANNELS = 3\n",
        "\n",
        "MIN_LR = 0.00002\n",
        "MAX_LR = 0.0002 \n",
        "BATCHSIZE = 32\n",
        "CLR_METHOD = \"triangular\"\n",
        "GAMMA = 0.99995\n",
        "EPOCHS = 64\n",
        "STEP_SIZE = 4 \n",
        "\n",
        "rotation_range = 15\n",
        "zoom_range = 0.15\n",
        "width_shift_range = 0.2\n",
        "height_shift_range = 0.2\n",
        "shear_range = 0.15\n",
        "horizontal_flip = True\n",
        "fill_mode = \"nearest\"\n",
        "\n",
        "experiment_name = 'resnet_application'\n",
        "model_version = str(12)\n",
        "\n",
        "rcParams['figure.figsize'] = 30, 6"
      ],
      "execution_count": null,
      "outputs": []
    },
    {
      "cell_type": "code",
      "metadata": {
        "id": "2eIRbY2r6iau"
      },
      "source": [
        "os.chdir('../../..')\n",
        "X_files = np.array([INITIAL_TRAIN_DIR+i for i in os.listdir(INITIAL_TRAIN_DIR)])\n",
        "\n",
        "# Get train and testset\n",
        "X_train_filenames, X_test_filenames = train_test_split(X_files, test_size=0.1, random_state=0)\n",
        "\n",
        "# Split traindata again into train and validation\n",
        "X_train_filenames, X_val_filenames = train_test_split(X_train_filenames, test_size=0.1, random_state=0)"
      ],
      "execution_count": null,
      "outputs": []
    },
    {
      "cell_type": "code",
      "metadata": {
        "id": "WRlUrVI56pYu",
        "outputId": "778b82e9-a288-4506-a558-9f905d04f8e3",
        "colab": {
          "base_uri": "https://localhost:8080/"
        }
      },
      "source": [
        "sort_test_images(COMP_DIR)\n",
        "prepare_file_structure(X_train_filenames, X_val_filenames, X_test_filenames)\n",
        "show_directory_structure(startpath='data')"
      ],
      "execution_count": null,
      "outputs": [
        {
          "output_type": "stream",
          "text": [
            "data/\n",
            "   test/\n",
            "      cats/\n",
            "      dogs/\n",
            "   validation/\n",
            "      cats/\n",
            "      dogs/\n",
            "   train/\n",
            "      cats/\n",
            "      dogs/\n"
          ],
          "name": "stdout"
        }
      ]
    },
    {
      "cell_type": "code",
      "metadata": {
        "id": "QlHKnwTO6q6O",
        "outputId": "59b20091-fab4-431d-917c-420248618d5b",
        "colab": {
          "base_uri": "https://localhost:8080/"
        }
      },
      "source": [
        "# Show examples of filenames\n",
        "os.listdir('data/train/dogs/')[:5]"
      ],
      "execution_count": null,
      "outputs": [
        {
          "output_type": "execute_result",
          "data": {
            "text/plain": [
              "['dog.4279.jpg', 'dog.3110.jpg', 'dog.6164.jpg', 'dog.630.jpg', 'dog.744.jpg']"
            ]
          },
          "metadata": {
            "tags": []
          },
          "execution_count": 10
        }
      ]
    },
    {
      "cell_type": "code",
      "metadata": {
        "id": "QQ81uV1S7V6f",
        "outputId": "baecda22-eefb-44a0-fa40-ba46b9af10a2",
        "colab": {
          "base_uri": "https://localhost:8080/"
        }
      },
      "source": [
        "model = applications.resnet50.ResNet50(weights=None, include_top=True, input_shape=(ROWS, COLS, CHANNELS), classes=2)\n",
        "\n",
        "model.compile(optimizer=tf.keras.optimizers.Adam(learning_rate=0.0001, beta_1=0.9, beta_2=0.999),\n",
        "              loss='sparse_categorical_crossentropy',  # Sparse for integers, just categorical for one hot encoded\n",
        "              metrics=['accuracy'])\n",
        "\n",
        "model.summary()"
      ],
      "execution_count": null,
      "outputs": [
        {
          "output_type": "stream",
          "text": [
            "Model: \"resnet50\"\n",
            "__________________________________________________________________________________________________\n",
            "Layer (type)                    Output Shape         Param #     Connected to                     \n",
            "==================================================================================================\n",
            "input_5 (InputLayer)            [(None, 224, 224, 3) 0                                            \n",
            "__________________________________________________________________________________________________\n",
            "conv1_pad (ZeroPadding2D)       (None, 230, 230, 3)  0           input_5[0][0]                    \n",
            "__________________________________________________________________________________________________\n",
            "conv1_conv (Conv2D)             (None, 112, 112, 64) 9472        conv1_pad[0][0]                  \n",
            "__________________________________________________________________________________________________\n",
            "conv1_bn (BatchNormalization)   (None, 112, 112, 64) 256         conv1_conv[0][0]                 \n",
            "__________________________________________________________________________________________________\n",
            "conv1_relu (Activation)         (None, 112, 112, 64) 0           conv1_bn[0][0]                   \n",
            "__________________________________________________________________________________________________\n",
            "pool1_pad (ZeroPadding2D)       (None, 114, 114, 64) 0           conv1_relu[0][0]                 \n",
            "__________________________________________________________________________________________________\n",
            "pool1_pool (MaxPooling2D)       (None, 56, 56, 64)   0           pool1_pad[0][0]                  \n",
            "__________________________________________________________________________________________________\n",
            "conv2_block1_1_conv (Conv2D)    (None, 56, 56, 64)   4160        pool1_pool[0][0]                 \n",
            "__________________________________________________________________________________________________\n",
            "conv2_block1_1_bn (BatchNormali (None, 56, 56, 64)   256         conv2_block1_1_conv[0][0]        \n",
            "__________________________________________________________________________________________________\n",
            "conv2_block1_1_relu (Activation (None, 56, 56, 64)   0           conv2_block1_1_bn[0][0]          \n",
            "__________________________________________________________________________________________________\n",
            "conv2_block1_2_conv (Conv2D)    (None, 56, 56, 64)   36928       conv2_block1_1_relu[0][0]        \n",
            "__________________________________________________________________________________________________\n",
            "conv2_block1_2_bn (BatchNormali (None, 56, 56, 64)   256         conv2_block1_2_conv[0][0]        \n",
            "__________________________________________________________________________________________________\n",
            "conv2_block1_2_relu (Activation (None, 56, 56, 64)   0           conv2_block1_2_bn[0][0]          \n",
            "__________________________________________________________________________________________________\n",
            "conv2_block1_0_conv (Conv2D)    (None, 56, 56, 256)  16640       pool1_pool[0][0]                 \n",
            "__________________________________________________________________________________________________\n",
            "conv2_block1_3_conv (Conv2D)    (None, 56, 56, 256)  16640       conv2_block1_2_relu[0][0]        \n",
            "__________________________________________________________________________________________________\n",
            "conv2_block1_0_bn (BatchNormali (None, 56, 56, 256)  1024        conv2_block1_0_conv[0][0]        \n",
            "__________________________________________________________________________________________________\n",
            "conv2_block1_3_bn (BatchNormali (None, 56, 56, 256)  1024        conv2_block1_3_conv[0][0]        \n",
            "__________________________________________________________________________________________________\n",
            "conv2_block1_add (Add)          (None, 56, 56, 256)  0           conv2_block1_0_bn[0][0]          \n",
            "                                                                 conv2_block1_3_bn[0][0]          \n",
            "__________________________________________________________________________________________________\n",
            "conv2_block1_out (Activation)   (None, 56, 56, 256)  0           conv2_block1_add[0][0]           \n",
            "__________________________________________________________________________________________________\n",
            "conv2_block2_1_conv (Conv2D)    (None, 56, 56, 64)   16448       conv2_block1_out[0][0]           \n",
            "__________________________________________________________________________________________________\n",
            "conv2_block2_1_bn (BatchNormali (None, 56, 56, 64)   256         conv2_block2_1_conv[0][0]        \n",
            "__________________________________________________________________________________________________\n",
            "conv2_block2_1_relu (Activation (None, 56, 56, 64)   0           conv2_block2_1_bn[0][0]          \n",
            "__________________________________________________________________________________________________\n",
            "conv2_block2_2_conv (Conv2D)    (None, 56, 56, 64)   36928       conv2_block2_1_relu[0][0]        \n",
            "__________________________________________________________________________________________________\n",
            "conv2_block2_2_bn (BatchNormali (None, 56, 56, 64)   256         conv2_block2_2_conv[0][0]        \n",
            "__________________________________________________________________________________________________\n",
            "conv2_block2_2_relu (Activation (None, 56, 56, 64)   0           conv2_block2_2_bn[0][0]          \n",
            "__________________________________________________________________________________________________\n",
            "conv2_block2_3_conv (Conv2D)    (None, 56, 56, 256)  16640       conv2_block2_2_relu[0][0]        \n",
            "__________________________________________________________________________________________________\n",
            "conv2_block2_3_bn (BatchNormali (None, 56, 56, 256)  1024        conv2_block2_3_conv[0][0]        \n",
            "__________________________________________________________________________________________________\n",
            "conv2_block2_add (Add)          (None, 56, 56, 256)  0           conv2_block1_out[0][0]           \n",
            "                                                                 conv2_block2_3_bn[0][0]          \n",
            "__________________________________________________________________________________________________\n",
            "conv2_block2_out (Activation)   (None, 56, 56, 256)  0           conv2_block2_add[0][0]           \n",
            "__________________________________________________________________________________________________\n",
            "conv2_block3_1_conv (Conv2D)    (None, 56, 56, 64)   16448       conv2_block2_out[0][0]           \n",
            "__________________________________________________________________________________________________\n",
            "conv2_block3_1_bn (BatchNormali (None, 56, 56, 64)   256         conv2_block3_1_conv[0][0]        \n",
            "__________________________________________________________________________________________________\n",
            "conv2_block3_1_relu (Activation (None, 56, 56, 64)   0           conv2_block3_1_bn[0][0]          \n",
            "__________________________________________________________________________________________________\n",
            "conv2_block3_2_conv (Conv2D)    (None, 56, 56, 64)   36928       conv2_block3_1_relu[0][0]        \n",
            "__________________________________________________________________________________________________\n",
            "conv2_block3_2_bn (BatchNormali (None, 56, 56, 64)   256         conv2_block3_2_conv[0][0]        \n",
            "__________________________________________________________________________________________________\n",
            "conv2_block3_2_relu (Activation (None, 56, 56, 64)   0           conv2_block3_2_bn[0][0]          \n",
            "__________________________________________________________________________________________________\n",
            "conv2_block3_3_conv (Conv2D)    (None, 56, 56, 256)  16640       conv2_block3_2_relu[0][0]        \n",
            "__________________________________________________________________________________________________\n",
            "conv2_block3_3_bn (BatchNormali (None, 56, 56, 256)  1024        conv2_block3_3_conv[0][0]        \n",
            "__________________________________________________________________________________________________\n",
            "conv2_block3_add (Add)          (None, 56, 56, 256)  0           conv2_block2_out[0][0]           \n",
            "                                                                 conv2_block3_3_bn[0][0]          \n",
            "__________________________________________________________________________________________________\n",
            "conv2_block3_out (Activation)   (None, 56, 56, 256)  0           conv2_block3_add[0][0]           \n",
            "__________________________________________________________________________________________________\n",
            "conv3_block1_1_conv (Conv2D)    (None, 28, 28, 128)  32896       conv2_block3_out[0][0]           \n",
            "__________________________________________________________________________________________________\n",
            "conv3_block1_1_bn (BatchNormali (None, 28, 28, 128)  512         conv3_block1_1_conv[0][0]        \n",
            "__________________________________________________________________________________________________\n",
            "conv3_block1_1_relu (Activation (None, 28, 28, 128)  0           conv3_block1_1_bn[0][0]          \n",
            "__________________________________________________________________________________________________\n",
            "conv3_block1_2_conv (Conv2D)    (None, 28, 28, 128)  147584      conv3_block1_1_relu[0][0]        \n",
            "__________________________________________________________________________________________________\n",
            "conv3_block1_2_bn (BatchNormali (None, 28, 28, 128)  512         conv3_block1_2_conv[0][0]        \n",
            "__________________________________________________________________________________________________\n",
            "conv3_block1_2_relu (Activation (None, 28, 28, 128)  0           conv3_block1_2_bn[0][0]          \n",
            "__________________________________________________________________________________________________\n",
            "conv3_block1_0_conv (Conv2D)    (None, 28, 28, 512)  131584      conv2_block3_out[0][0]           \n",
            "__________________________________________________________________________________________________\n",
            "conv3_block1_3_conv (Conv2D)    (None, 28, 28, 512)  66048       conv3_block1_2_relu[0][0]        \n",
            "__________________________________________________________________________________________________\n",
            "conv3_block1_0_bn (BatchNormali (None, 28, 28, 512)  2048        conv3_block1_0_conv[0][0]        \n",
            "__________________________________________________________________________________________________\n",
            "conv3_block1_3_bn (BatchNormali (None, 28, 28, 512)  2048        conv3_block1_3_conv[0][0]        \n",
            "__________________________________________________________________________________________________\n",
            "conv3_block1_add (Add)          (None, 28, 28, 512)  0           conv3_block1_0_bn[0][0]          \n",
            "                                                                 conv3_block1_3_bn[0][0]          \n",
            "__________________________________________________________________________________________________\n",
            "conv3_block1_out (Activation)   (None, 28, 28, 512)  0           conv3_block1_add[0][0]           \n",
            "__________________________________________________________________________________________________\n",
            "conv3_block2_1_conv (Conv2D)    (None, 28, 28, 128)  65664       conv3_block1_out[0][0]           \n",
            "__________________________________________________________________________________________________\n",
            "conv3_block2_1_bn (BatchNormali (None, 28, 28, 128)  512         conv3_block2_1_conv[0][0]        \n",
            "__________________________________________________________________________________________________\n",
            "conv3_block2_1_relu (Activation (None, 28, 28, 128)  0           conv3_block2_1_bn[0][0]          \n",
            "__________________________________________________________________________________________________\n",
            "conv3_block2_2_conv (Conv2D)    (None, 28, 28, 128)  147584      conv3_block2_1_relu[0][0]        \n",
            "__________________________________________________________________________________________________\n",
            "conv3_block2_2_bn (BatchNormali (None, 28, 28, 128)  512         conv3_block2_2_conv[0][0]        \n",
            "__________________________________________________________________________________________________\n",
            "conv3_block2_2_relu (Activation (None, 28, 28, 128)  0           conv3_block2_2_bn[0][0]          \n",
            "__________________________________________________________________________________________________\n",
            "conv3_block2_3_conv (Conv2D)    (None, 28, 28, 512)  66048       conv3_block2_2_relu[0][0]        \n",
            "__________________________________________________________________________________________________\n",
            "conv3_block2_3_bn (BatchNormali (None, 28, 28, 512)  2048        conv3_block2_3_conv[0][0]        \n",
            "__________________________________________________________________________________________________\n",
            "conv3_block2_add (Add)          (None, 28, 28, 512)  0           conv3_block1_out[0][0]           \n",
            "                                                                 conv3_block2_3_bn[0][0]          \n",
            "__________________________________________________________________________________________________\n",
            "conv3_block2_out (Activation)   (None, 28, 28, 512)  0           conv3_block2_add[0][0]           \n",
            "__________________________________________________________________________________________________\n",
            "conv3_block3_1_conv (Conv2D)    (None, 28, 28, 128)  65664       conv3_block2_out[0][0]           \n",
            "__________________________________________________________________________________________________\n",
            "conv3_block3_1_bn (BatchNormali (None, 28, 28, 128)  512         conv3_block3_1_conv[0][0]        \n",
            "__________________________________________________________________________________________________\n",
            "conv3_block3_1_relu (Activation (None, 28, 28, 128)  0           conv3_block3_1_bn[0][0]          \n",
            "__________________________________________________________________________________________________\n",
            "conv3_block3_2_conv (Conv2D)    (None, 28, 28, 128)  147584      conv3_block3_1_relu[0][0]        \n",
            "__________________________________________________________________________________________________\n",
            "conv3_block3_2_bn (BatchNormali (None, 28, 28, 128)  512         conv3_block3_2_conv[0][0]        \n",
            "__________________________________________________________________________________________________\n",
            "conv3_block3_2_relu (Activation (None, 28, 28, 128)  0           conv3_block3_2_bn[0][0]          \n",
            "__________________________________________________________________________________________________\n",
            "conv3_block3_3_conv (Conv2D)    (None, 28, 28, 512)  66048       conv3_block3_2_relu[0][0]        \n",
            "__________________________________________________________________________________________________\n",
            "conv3_block3_3_bn (BatchNormali (None, 28, 28, 512)  2048        conv3_block3_3_conv[0][0]        \n",
            "__________________________________________________________________________________________________\n",
            "conv3_block3_add (Add)          (None, 28, 28, 512)  0           conv3_block2_out[0][0]           \n",
            "                                                                 conv3_block3_3_bn[0][0]          \n",
            "__________________________________________________________________________________________________\n",
            "conv3_block3_out (Activation)   (None, 28, 28, 512)  0           conv3_block3_add[0][0]           \n",
            "__________________________________________________________________________________________________\n",
            "conv3_block4_1_conv (Conv2D)    (None, 28, 28, 128)  65664       conv3_block3_out[0][0]           \n",
            "__________________________________________________________________________________________________\n",
            "conv3_block4_1_bn (BatchNormali (None, 28, 28, 128)  512         conv3_block4_1_conv[0][0]        \n",
            "__________________________________________________________________________________________________\n",
            "conv3_block4_1_relu (Activation (None, 28, 28, 128)  0           conv3_block4_1_bn[0][0]          \n",
            "__________________________________________________________________________________________________\n",
            "conv3_block4_2_conv (Conv2D)    (None, 28, 28, 128)  147584      conv3_block4_1_relu[0][0]        \n",
            "__________________________________________________________________________________________________\n",
            "conv3_block4_2_bn (BatchNormali (None, 28, 28, 128)  512         conv3_block4_2_conv[0][0]        \n",
            "__________________________________________________________________________________________________\n",
            "conv3_block4_2_relu (Activation (None, 28, 28, 128)  0           conv3_block4_2_bn[0][0]          \n",
            "__________________________________________________________________________________________________\n",
            "conv3_block4_3_conv (Conv2D)    (None, 28, 28, 512)  66048       conv3_block4_2_relu[0][0]        \n",
            "__________________________________________________________________________________________________\n",
            "conv3_block4_3_bn (BatchNormali (None, 28, 28, 512)  2048        conv3_block4_3_conv[0][0]        \n",
            "__________________________________________________________________________________________________\n",
            "conv3_block4_add (Add)          (None, 28, 28, 512)  0           conv3_block3_out[0][0]           \n",
            "                                                                 conv3_block4_3_bn[0][0]          \n",
            "__________________________________________________________________________________________________\n",
            "conv3_block4_out (Activation)   (None, 28, 28, 512)  0           conv3_block4_add[0][0]           \n",
            "__________________________________________________________________________________________________\n",
            "conv4_block1_1_conv (Conv2D)    (None, 14, 14, 256)  131328      conv3_block4_out[0][0]           \n",
            "__________________________________________________________________________________________________\n",
            "conv4_block1_1_bn (BatchNormali (None, 14, 14, 256)  1024        conv4_block1_1_conv[0][0]        \n",
            "__________________________________________________________________________________________________\n",
            "conv4_block1_1_relu (Activation (None, 14, 14, 256)  0           conv4_block1_1_bn[0][0]          \n",
            "__________________________________________________________________________________________________\n",
            "conv4_block1_2_conv (Conv2D)    (None, 14, 14, 256)  590080      conv4_block1_1_relu[0][0]        \n",
            "__________________________________________________________________________________________________\n",
            "conv4_block1_2_bn (BatchNormali (None, 14, 14, 256)  1024        conv4_block1_2_conv[0][0]        \n",
            "__________________________________________________________________________________________________\n",
            "conv4_block1_2_relu (Activation (None, 14, 14, 256)  0           conv4_block1_2_bn[0][0]          \n",
            "__________________________________________________________________________________________________\n",
            "conv4_block1_0_conv (Conv2D)    (None, 14, 14, 1024) 525312      conv3_block4_out[0][0]           \n",
            "__________________________________________________________________________________________________\n",
            "conv4_block1_3_conv (Conv2D)    (None, 14, 14, 1024) 263168      conv4_block1_2_relu[0][0]        \n",
            "__________________________________________________________________________________________________\n",
            "conv4_block1_0_bn (BatchNormali (None, 14, 14, 1024) 4096        conv4_block1_0_conv[0][0]        \n",
            "__________________________________________________________________________________________________\n",
            "conv4_block1_3_bn (BatchNormali (None, 14, 14, 1024) 4096        conv4_block1_3_conv[0][0]        \n",
            "__________________________________________________________________________________________________\n",
            "conv4_block1_add (Add)          (None, 14, 14, 1024) 0           conv4_block1_0_bn[0][0]          \n",
            "                                                                 conv4_block1_3_bn[0][0]          \n",
            "__________________________________________________________________________________________________\n",
            "conv4_block1_out (Activation)   (None, 14, 14, 1024) 0           conv4_block1_add[0][0]           \n",
            "__________________________________________________________________________________________________\n",
            "conv4_block2_1_conv (Conv2D)    (None, 14, 14, 256)  262400      conv4_block1_out[0][0]           \n",
            "__________________________________________________________________________________________________\n",
            "conv4_block2_1_bn (BatchNormali (None, 14, 14, 256)  1024        conv4_block2_1_conv[0][0]        \n",
            "__________________________________________________________________________________________________\n",
            "conv4_block2_1_relu (Activation (None, 14, 14, 256)  0           conv4_block2_1_bn[0][0]          \n",
            "__________________________________________________________________________________________________\n",
            "conv4_block2_2_conv (Conv2D)    (None, 14, 14, 256)  590080      conv4_block2_1_relu[0][0]        \n",
            "__________________________________________________________________________________________________\n",
            "conv4_block2_2_bn (BatchNormali (None, 14, 14, 256)  1024        conv4_block2_2_conv[0][0]        \n",
            "__________________________________________________________________________________________________\n",
            "conv4_block2_2_relu (Activation (None, 14, 14, 256)  0           conv4_block2_2_bn[0][0]          \n",
            "__________________________________________________________________________________________________\n",
            "conv4_block2_3_conv (Conv2D)    (None, 14, 14, 1024) 263168      conv4_block2_2_relu[0][0]        \n",
            "__________________________________________________________________________________________________\n",
            "conv4_block2_3_bn (BatchNormali (None, 14, 14, 1024) 4096        conv4_block2_3_conv[0][0]        \n",
            "__________________________________________________________________________________________________\n",
            "conv4_block2_add (Add)          (None, 14, 14, 1024) 0           conv4_block1_out[0][0]           \n",
            "                                                                 conv4_block2_3_bn[0][0]          \n",
            "__________________________________________________________________________________________________\n",
            "conv4_block2_out (Activation)   (None, 14, 14, 1024) 0           conv4_block2_add[0][0]           \n",
            "__________________________________________________________________________________________________\n",
            "conv4_block3_1_conv (Conv2D)    (None, 14, 14, 256)  262400      conv4_block2_out[0][0]           \n",
            "__________________________________________________________________________________________________\n",
            "conv4_block3_1_bn (BatchNormali (None, 14, 14, 256)  1024        conv4_block3_1_conv[0][0]        \n",
            "__________________________________________________________________________________________________\n",
            "conv4_block3_1_relu (Activation (None, 14, 14, 256)  0           conv4_block3_1_bn[0][0]          \n",
            "__________________________________________________________________________________________________\n",
            "conv4_block3_2_conv (Conv2D)    (None, 14, 14, 256)  590080      conv4_block3_1_relu[0][0]        \n",
            "__________________________________________________________________________________________________\n",
            "conv4_block3_2_bn (BatchNormali (None, 14, 14, 256)  1024        conv4_block3_2_conv[0][0]        \n",
            "__________________________________________________________________________________________________\n",
            "conv4_block3_2_relu (Activation (None, 14, 14, 256)  0           conv4_block3_2_bn[0][0]          \n",
            "__________________________________________________________________________________________________\n",
            "conv4_block3_3_conv (Conv2D)    (None, 14, 14, 1024) 263168      conv4_block3_2_relu[0][0]        \n",
            "__________________________________________________________________________________________________\n",
            "conv4_block3_3_bn (BatchNormali (None, 14, 14, 1024) 4096        conv4_block3_3_conv[0][0]        \n",
            "__________________________________________________________________________________________________\n",
            "conv4_block3_add (Add)          (None, 14, 14, 1024) 0           conv4_block2_out[0][0]           \n",
            "                                                                 conv4_block3_3_bn[0][0]          \n",
            "__________________________________________________________________________________________________\n",
            "conv4_block3_out (Activation)   (None, 14, 14, 1024) 0           conv4_block3_add[0][0]           \n",
            "__________________________________________________________________________________________________\n",
            "conv4_block4_1_conv (Conv2D)    (None, 14, 14, 256)  262400      conv4_block3_out[0][0]           \n",
            "__________________________________________________________________________________________________\n",
            "conv4_block4_1_bn (BatchNormali (None, 14, 14, 256)  1024        conv4_block4_1_conv[0][0]        \n",
            "__________________________________________________________________________________________________\n",
            "conv4_block4_1_relu (Activation (None, 14, 14, 256)  0           conv4_block4_1_bn[0][0]          \n",
            "__________________________________________________________________________________________________\n",
            "conv4_block4_2_conv (Conv2D)    (None, 14, 14, 256)  590080      conv4_block4_1_relu[0][0]        \n",
            "__________________________________________________________________________________________________\n",
            "conv4_block4_2_bn (BatchNormali (None, 14, 14, 256)  1024        conv4_block4_2_conv[0][0]        \n",
            "__________________________________________________________________________________________________\n",
            "conv4_block4_2_relu (Activation (None, 14, 14, 256)  0           conv4_block4_2_bn[0][0]          \n",
            "__________________________________________________________________________________________________\n",
            "conv4_block4_3_conv (Conv2D)    (None, 14, 14, 1024) 263168      conv4_block4_2_relu[0][0]        \n",
            "__________________________________________________________________________________________________\n",
            "conv4_block4_3_bn (BatchNormali (None, 14, 14, 1024) 4096        conv4_block4_3_conv[0][0]        \n",
            "__________________________________________________________________________________________________\n",
            "conv4_block4_add (Add)          (None, 14, 14, 1024) 0           conv4_block3_out[0][0]           \n",
            "                                                                 conv4_block4_3_bn[0][0]          \n",
            "__________________________________________________________________________________________________\n",
            "conv4_block4_out (Activation)   (None, 14, 14, 1024) 0           conv4_block4_add[0][0]           \n",
            "__________________________________________________________________________________________________\n",
            "conv4_block5_1_conv (Conv2D)    (None, 14, 14, 256)  262400      conv4_block4_out[0][0]           \n",
            "__________________________________________________________________________________________________\n",
            "conv4_block5_1_bn (BatchNormali (None, 14, 14, 256)  1024        conv4_block5_1_conv[0][0]        \n",
            "__________________________________________________________________________________________________\n",
            "conv4_block5_1_relu (Activation (None, 14, 14, 256)  0           conv4_block5_1_bn[0][0]          \n",
            "__________________________________________________________________________________________________\n",
            "conv4_block5_2_conv (Conv2D)    (None, 14, 14, 256)  590080      conv4_block5_1_relu[0][0]        \n",
            "__________________________________________________________________________________________________\n",
            "conv4_block5_2_bn (BatchNormali (None, 14, 14, 256)  1024        conv4_block5_2_conv[0][0]        \n",
            "__________________________________________________________________________________________________\n",
            "conv4_block5_2_relu (Activation (None, 14, 14, 256)  0           conv4_block5_2_bn[0][0]          \n",
            "__________________________________________________________________________________________________\n",
            "conv4_block5_3_conv (Conv2D)    (None, 14, 14, 1024) 263168      conv4_block5_2_relu[0][0]        \n",
            "__________________________________________________________________________________________________\n",
            "conv4_block5_3_bn (BatchNormali (None, 14, 14, 1024) 4096        conv4_block5_3_conv[0][0]        \n",
            "__________________________________________________________________________________________________\n",
            "conv4_block5_add (Add)          (None, 14, 14, 1024) 0           conv4_block4_out[0][0]           \n",
            "                                                                 conv4_block5_3_bn[0][0]          \n",
            "__________________________________________________________________________________________________\n",
            "conv4_block5_out (Activation)   (None, 14, 14, 1024) 0           conv4_block5_add[0][0]           \n",
            "__________________________________________________________________________________________________\n",
            "conv4_block6_1_conv (Conv2D)    (None, 14, 14, 256)  262400      conv4_block5_out[0][0]           \n",
            "__________________________________________________________________________________________________\n",
            "conv4_block6_1_bn (BatchNormali (None, 14, 14, 256)  1024        conv4_block6_1_conv[0][0]        \n",
            "__________________________________________________________________________________________________\n",
            "conv4_block6_1_relu (Activation (None, 14, 14, 256)  0           conv4_block6_1_bn[0][0]          \n",
            "__________________________________________________________________________________________________\n",
            "conv4_block6_2_conv (Conv2D)    (None, 14, 14, 256)  590080      conv4_block6_1_relu[0][0]        \n",
            "__________________________________________________________________________________________________\n",
            "conv4_block6_2_bn (BatchNormali (None, 14, 14, 256)  1024        conv4_block6_2_conv[0][0]        \n",
            "__________________________________________________________________________________________________\n",
            "conv4_block6_2_relu (Activation (None, 14, 14, 256)  0           conv4_block6_2_bn[0][0]          \n",
            "__________________________________________________________________________________________________\n",
            "conv4_block6_3_conv (Conv2D)    (None, 14, 14, 1024) 263168      conv4_block6_2_relu[0][0]        \n",
            "__________________________________________________________________________________________________\n",
            "conv4_block6_3_bn (BatchNormali (None, 14, 14, 1024) 4096        conv4_block6_3_conv[0][0]        \n",
            "__________________________________________________________________________________________________\n",
            "conv4_block6_add (Add)          (None, 14, 14, 1024) 0           conv4_block5_out[0][0]           \n",
            "                                                                 conv4_block6_3_bn[0][0]          \n",
            "__________________________________________________________________________________________________\n",
            "conv4_block6_out (Activation)   (None, 14, 14, 1024) 0           conv4_block6_add[0][0]           \n",
            "__________________________________________________________________________________________________\n",
            "conv5_block1_1_conv (Conv2D)    (None, 7, 7, 512)    524800      conv4_block6_out[0][0]           \n",
            "__________________________________________________________________________________________________\n",
            "conv5_block1_1_bn (BatchNormali (None, 7, 7, 512)    2048        conv5_block1_1_conv[0][0]        \n",
            "__________________________________________________________________________________________________\n",
            "conv5_block1_1_relu (Activation (None, 7, 7, 512)    0           conv5_block1_1_bn[0][0]          \n",
            "__________________________________________________________________________________________________\n",
            "conv5_block1_2_conv (Conv2D)    (None, 7, 7, 512)    2359808     conv5_block1_1_relu[0][0]        \n",
            "__________________________________________________________________________________________________\n",
            "conv5_block1_2_bn (BatchNormali (None, 7, 7, 512)    2048        conv5_block1_2_conv[0][0]        \n",
            "__________________________________________________________________________________________________\n",
            "conv5_block1_2_relu (Activation (None, 7, 7, 512)    0           conv5_block1_2_bn[0][0]          \n",
            "__________________________________________________________________________________________________\n",
            "conv5_block1_0_conv (Conv2D)    (None, 7, 7, 2048)   2099200     conv4_block6_out[0][0]           \n",
            "__________________________________________________________________________________________________\n",
            "conv5_block1_3_conv (Conv2D)    (None, 7, 7, 2048)   1050624     conv5_block1_2_relu[0][0]        \n",
            "__________________________________________________________________________________________________\n",
            "conv5_block1_0_bn (BatchNormali (None, 7, 7, 2048)   8192        conv5_block1_0_conv[0][0]        \n",
            "__________________________________________________________________________________________________\n",
            "conv5_block1_3_bn (BatchNormali (None, 7, 7, 2048)   8192        conv5_block1_3_conv[0][0]        \n",
            "__________________________________________________________________________________________________\n",
            "conv5_block1_add (Add)          (None, 7, 7, 2048)   0           conv5_block1_0_bn[0][0]          \n",
            "                                                                 conv5_block1_3_bn[0][0]          \n",
            "__________________________________________________________________________________________________\n",
            "conv5_block1_out (Activation)   (None, 7, 7, 2048)   0           conv5_block1_add[0][0]           \n",
            "__________________________________________________________________________________________________\n",
            "conv5_block2_1_conv (Conv2D)    (None, 7, 7, 512)    1049088     conv5_block1_out[0][0]           \n",
            "__________________________________________________________________________________________________\n",
            "conv5_block2_1_bn (BatchNormali (None, 7, 7, 512)    2048        conv5_block2_1_conv[0][0]        \n",
            "__________________________________________________________________________________________________\n",
            "conv5_block2_1_relu (Activation (None, 7, 7, 512)    0           conv5_block2_1_bn[0][0]          \n",
            "__________________________________________________________________________________________________\n",
            "conv5_block2_2_conv (Conv2D)    (None, 7, 7, 512)    2359808     conv5_block2_1_relu[0][0]        \n",
            "__________________________________________________________________________________________________\n",
            "conv5_block2_2_bn (BatchNormali (None, 7, 7, 512)    2048        conv5_block2_2_conv[0][0]        \n",
            "__________________________________________________________________________________________________\n",
            "conv5_block2_2_relu (Activation (None, 7, 7, 512)    0           conv5_block2_2_bn[0][0]          \n",
            "__________________________________________________________________________________________________\n",
            "conv5_block2_3_conv (Conv2D)    (None, 7, 7, 2048)   1050624     conv5_block2_2_relu[0][0]        \n",
            "__________________________________________________________________________________________________\n",
            "conv5_block2_3_bn (BatchNormali (None, 7, 7, 2048)   8192        conv5_block2_3_conv[0][0]        \n",
            "__________________________________________________________________________________________________\n",
            "conv5_block2_add (Add)          (None, 7, 7, 2048)   0           conv5_block1_out[0][0]           \n",
            "                                                                 conv5_block2_3_bn[0][0]          \n",
            "__________________________________________________________________________________________________\n",
            "conv5_block2_out (Activation)   (None, 7, 7, 2048)   0           conv5_block2_add[0][0]           \n",
            "__________________________________________________________________________________________________\n",
            "conv5_block3_1_conv (Conv2D)    (None, 7, 7, 512)    1049088     conv5_block2_out[0][0]           \n",
            "__________________________________________________________________________________________________\n",
            "conv5_block3_1_bn (BatchNormali (None, 7, 7, 512)    2048        conv5_block3_1_conv[0][0]        \n",
            "__________________________________________________________________________________________________\n",
            "conv5_block3_1_relu (Activation (None, 7, 7, 512)    0           conv5_block3_1_bn[0][0]          \n",
            "__________________________________________________________________________________________________\n",
            "conv5_block3_2_conv (Conv2D)    (None, 7, 7, 512)    2359808     conv5_block3_1_relu[0][0]        \n",
            "__________________________________________________________________________________________________\n",
            "conv5_block3_2_bn (BatchNormali (None, 7, 7, 512)    2048        conv5_block3_2_conv[0][0]        \n",
            "__________________________________________________________________________________________________\n",
            "conv5_block3_2_relu (Activation (None, 7, 7, 512)    0           conv5_block3_2_bn[0][0]          \n",
            "__________________________________________________________________________________________________\n",
            "conv5_block3_3_conv (Conv2D)    (None, 7, 7, 2048)   1050624     conv5_block3_2_relu[0][0]        \n",
            "__________________________________________________________________________________________________\n",
            "conv5_block3_3_bn (BatchNormali (None, 7, 7, 2048)   8192        conv5_block3_3_conv[0][0]        \n",
            "__________________________________________________________________________________________________\n",
            "conv5_block3_add (Add)          (None, 7, 7, 2048)   0           conv5_block2_out[0][0]           \n",
            "                                                                 conv5_block3_3_bn[0][0]          \n",
            "__________________________________________________________________________________________________\n",
            "conv5_block3_out (Activation)   (None, 7, 7, 2048)   0           conv5_block3_add[0][0]           \n",
            "__________________________________________________________________________________________________\n",
            "avg_pool (GlobalAveragePooling2 (None, 2048)         0           conv5_block3_out[0][0]           \n",
            "__________________________________________________________________________________________________\n",
            "predictions (Dense)             (None, 2)            4098        avg_pool[0][0]                   \n",
            "==================================================================================================\n",
            "Total params: 23,591,810\n",
            "Trainable params: 23,538,690\n",
            "Non-trainable params: 53,120\n",
            "__________________________________________________________________________________________________\n"
          ],
          "name": "stdout"
        }
      ]
    },
    {
      "cell_type": "code",
      "metadata": {
        "id": "oMerS2nm7aCX",
        "outputId": "44457b3b-32c5-4d4c-8028-8fcf1e018ba7",
        "colab": {
          "base_uri": "https://localhost:8080/"
        }
      },
      "source": [
        "# save best model checkpoint\n",
        "save_model = tf.keras.callbacks.ModelCheckpoint('drive/My Drive/collab/' + experiment_name + '.h5', monitor='val_loss', verbose=1, save_best_only=True, \n",
        "                                                save_weights_only=False, mode='auto', save_freq='epoch')\n",
        "\n",
        "# Early stopping callback\n",
        "early = tf.keras.callbacks.EarlyStopping(monitor='val_loss', min_delta=0, patience=8, verbose=1, mode='auto')\n",
        "\n",
        "# Cyclical learning rate callback\n",
        "clr = CyclicLR(base_lr=MIN_LR, max_lr=MAX_LR, step_size=STEP_SIZE * -(-len(X_train_filenames)//BATCHSIZE), mode=CLR_METHOD, gamma=GAMMA)\n",
        "\n",
        "# Create callback for decreasing learning rate when cycling LR is not used (and e.g. Adam is used)\n",
        "class MyCallback(Callback):\n",
        "    def __init__(self):\n",
        "        self.lr_history = []\n",
        "\n",
        "    def on_epoch_end(self, epoch, logs=None):\n",
        "        lr = self.model.optimizer.lr\n",
        "        decay = self.model.optimizer.decay\n",
        "        iterations = self.model.optimizer.iterations\n",
        "        lr_with_decay = lr / (1. + decay * K.cast(iterations, K.dtype(decay)))\n",
        "        self.lr_history.append(lr_with_decay)\n",
        "        # tf.keras.backend.get_value(lr_callback.lr_history[0])\n",
        "        print(K.eval(lr_with_decay))\n",
        "\n",
        "lr_callback = MyCallback()\n",
        "\n",
        "# Create tensorboard callback\n",
        "log_dir = \"drive/My Drive/collab/logs/fit/\" + experiment_name\n",
        "tensorboard_callback = tf.keras.callbacks.TensorBoard(log_dir=log_dir, histogram_freq=1)\n",
        "\n",
        "# Create augmentation generator\n",
        "train_aug = ImageDataGenerator(\n",
        "\t\trescale=1./255,\n",
        "    rotation_range=rotation_range,\n",
        "\t\tzoom_range=zoom_range,\n",
        "\t\twidth_shift_range=width_shift_range,\n",
        "\t\theight_shift_range=height_shift_range,\n",
        "\t\tshear_range=shear_range,\n",
        "\t\thorizontal_flip=horizontal_flip,\n",
        "\t\tfill_mode=fill_mode\n",
        ")\n",
        "\n",
        "test_aug = ImageDataGenerator(rescale=1./255)\n",
        "\n",
        "train_generator = train_aug.flow_from_directory(train_data_dir, target_size=(ROWS, COLS), batch_size=BATCHSIZE, class_mode='binary')\n",
        "val_generator = test_aug.flow_from_directory(validation_data_dir, target_size=(ROWS, COLS), batch_size=BATCHSIZE, class_mode='binary')\n",
        "test_generator = test_aug.flow_from_directory(test_data_dir, target_size=(ROWS, COLS), batch_size=BATCHSIZE, class_mode='binary', shuffle=False)\n",
        "comp_generator = test_aug.flow_from_directory('test', target_size=(ROWS, COLS), batch_size=BATCHSIZE, class_mode='binary', shuffle=False)"
      ],
      "execution_count": null,
      "outputs": [
        {
          "output_type": "stream",
          "text": [
            "Found 20250 images belonging to 2 classes.\n",
            "Found 2250 images belonging to 2 classes.\n",
            "Found 2500 images belonging to 2 classes.\n",
            "Found 12500 images belonging to 1 classes.\n"
          ],
          "name": "stdout"
        }
      ]
    },
    {
      "cell_type": "code",
      "metadata": {
        "id": "-SGqkHeeGMNY",
        "outputId": "d4fe0be6-ed9c-40ad-a0bd-3c2d3951a1db",
        "colab": {
          "base_uri": "https://localhost:8080/"
        }
      },
      "source": [
        "lr_callback.lr_history"
      ],
      "execution_count": null,
      "outputs": [
        {
          "output_type": "execute_result",
          "data": {
            "text/plain": [
              "[]"
            ]
          },
          "metadata": {
            "tags": []
          },
          "execution_count": 30
        }
      ]
    },
    {
      "cell_type": "code",
      "metadata": {
        "id": "UxgrZwza_As0",
        "outputId": "75aefa1f-1050-4bc8-fde1-d1e601c94df8",
        "colab": {
          "base_uri": "https://localhost:8080/"
        }
      },
      "source": [
        "# Train model\n",
        "start = datetime.datetime.now()\n",
        "print(start)\n",
        "\n",
        "history = model.fit(train_generator,\n",
        "                    batch_size=BATCHSIZE,\n",
        "                    epochs=EPOCHS, \n",
        "                    validation_data=val_generator,\n",
        "                    verbose=1,\n",
        "                    callbacks=[clr, early, save_model, tensorboard_callback] #lr_callback\n",
        "                ) \n",
        "\n",
        "print('Finished in: {}'.format(datetime.datetime.now() - start))\n",
        "print(datetime.datetime.now())"
      ],
      "execution_count": null,
      "outputs": [
        {
          "output_type": "stream",
          "text": [
            "2020-11-02 09:01:51.686633\n",
            "Epoch 1/64\n",
            "633/633 [==============================] - ETA: 0s - loss: 0.6912 - accuracy: 0.5902\n",
            "Epoch 00001: val_loss improved from inf to 0.87351, saving model to drive/My Drive/collab/resnet_application.h5\n",
            "633/633 [==============================] - 320s 506ms/step - loss: 0.6912 - accuracy: 0.5902 - val_loss: 0.8735 - val_accuracy: 0.4987\n",
            "Epoch 2/64\n",
            "633/633 [==============================] - ETA: 0s - loss: 0.6700 - accuracy: 0.6116\n",
            "Epoch 00002: val_loss improved from 0.87351 to 0.69978, saving model to drive/My Drive/collab/resnet_application.h5\n",
            "633/633 [==============================] - 309s 488ms/step - loss: 0.6700 - accuracy: 0.6116 - val_loss: 0.6998 - val_accuracy: 0.5609\n",
            "Epoch 3/64\n",
            "633/633 [==============================] - ETA: 0s - loss: 0.6569 - accuracy: 0.6266\n",
            "Epoch 00003: val_loss improved from 0.69978 to 0.62164, saving model to drive/My Drive/collab/resnet_application.h5\n",
            "633/633 [==============================] - 295s 466ms/step - loss: 0.6569 - accuracy: 0.6266 - val_loss: 0.6216 - val_accuracy: 0.6622\n",
            "Epoch 4/64\n",
            "633/633 [==============================] - ETA: 0s - loss: 0.6282 - accuracy: 0.6600\n",
            "Epoch 00004: val_loss improved from 0.62164 to 0.58999, saving model to drive/My Drive/collab/resnet_application.h5\n",
            "633/633 [==============================] - 295s 466ms/step - loss: 0.6282 - accuracy: 0.6600 - val_loss: 0.5900 - val_accuracy: 0.6889\n",
            "Epoch 5/64\n",
            "633/633 [==============================] - ETA: 0s - loss: 0.5741 - accuracy: 0.7055\n",
            "Epoch 00005: val_loss did not improve from 0.58999\n",
            "633/633 [==============================] - 289s 456ms/step - loss: 0.5741 - accuracy: 0.7055 - val_loss: 0.7961 - val_accuracy: 0.6262\n",
            "Epoch 6/64\n",
            "633/633 [==============================] - ETA: 0s - loss: 0.5055 - accuracy: 0.7513\n",
            "Epoch 00006: val_loss improved from 0.58999 to 0.42448, saving model to drive/My Drive/collab/resnet_application.h5\n",
            "633/633 [==============================] - 292s 461ms/step - loss: 0.5055 - accuracy: 0.7513 - val_loss: 0.4245 - val_accuracy: 0.8129\n",
            "Epoch 7/64\n",
            "633/633 [==============================] - ETA: 0s - loss: 0.4520 - accuracy: 0.7833\n",
            "Epoch 00007: val_loss improved from 0.42448 to 0.41288, saving model to drive/My Drive/collab/resnet_application.h5\n",
            "633/633 [==============================] - 292s 462ms/step - loss: 0.4520 - accuracy: 0.7833 - val_loss: 0.4129 - val_accuracy: 0.8053\n",
            "Epoch 8/64\n",
            "633/633 [==============================] - ETA: 0s - loss: 0.4002 - accuracy: 0.8172\n",
            "Epoch 00008: val_loss improved from 0.41288 to 0.35475, saving model to drive/My Drive/collab/resnet_application.h5\n",
            "633/633 [==============================] - 289s 457ms/step - loss: 0.4002 - accuracy: 0.8172 - val_loss: 0.3547 - val_accuracy: 0.8440\n",
            "Epoch 9/64\n",
            "633/633 [==============================] - ETA: 0s - loss: 0.3837 - accuracy: 0.8228\n",
            "Epoch 00009: val_loss did not improve from 0.35475\n",
            "633/633 [==============================] - 287s 454ms/step - loss: 0.3837 - accuracy: 0.8228 - val_loss: 0.4427 - val_accuracy: 0.7889\n",
            "Epoch 10/64\n",
            "633/633 [==============================] - ETA: 0s - loss: 0.4022 - accuracy: 0.8133\n",
            "Epoch 00010: val_loss did not improve from 0.35475\n",
            "633/633 [==============================] - 286s 451ms/step - loss: 0.4022 - accuracy: 0.8133 - val_loss: 0.5150 - val_accuracy: 0.7391\n",
            "Epoch 11/64\n",
            "633/633 [==============================] - ETA: 0s - loss: 0.3979 - accuracy: 0.8168\n",
            "Epoch 00011: val_loss did not improve from 0.35475\n",
            "633/633 [==============================] - 291s 460ms/step - loss: 0.3979 - accuracy: 0.8168 - val_loss: 0.9726 - val_accuracy: 0.5507\n",
            "Epoch 12/64\n",
            "633/633 [==============================] - ETA: 0s - loss: 0.3730 - accuracy: 0.8328\n",
            "Epoch 00012: val_loss did not improve from 0.35475\n",
            "633/633 [==============================] - 286s 452ms/step - loss: 0.3730 - accuracy: 0.8328 - val_loss: 0.5450 - val_accuracy: 0.7631\n",
            "Epoch 13/64\n",
            "633/633 [==============================] - ETA: 0s - loss: 0.3011 - accuracy: 0.8668\n",
            "Epoch 00013: val_loss did not improve from 0.35475\n",
            "633/633 [==============================] - 285s 451ms/step - loss: 0.3011 - accuracy: 0.8668 - val_loss: 0.3927 - val_accuracy: 0.8249\n",
            "Epoch 14/64\n",
            "633/633 [==============================] - ETA: 0s - loss: 0.2471 - accuracy: 0.8932\n",
            "Epoch 00014: val_loss improved from 0.35475 to 0.21931, saving model to drive/My Drive/collab/resnet_application.h5\n",
            "633/633 [==============================] - 288s 454ms/step - loss: 0.2471 - accuracy: 0.8932 - val_loss: 0.2193 - val_accuracy: 0.9067\n",
            "Epoch 15/64\n",
            "633/633 [==============================] - ETA: 0s - loss: 0.2037 - accuracy: 0.9148\n",
            "Epoch 00015: val_loss did not improve from 0.21931\n",
            "633/633 [==============================] - 285s 451ms/step - loss: 0.2037 - accuracy: 0.9148 - val_loss: 0.2614 - val_accuracy: 0.8858\n",
            "Epoch 16/64\n",
            "633/633 [==============================] - ETA: 0s - loss: 0.1622 - accuracy: 0.9320\n",
            "Epoch 00016: val_loss improved from 0.21931 to 0.12735, saving model to drive/My Drive/collab/resnet_application.h5\n",
            "633/633 [==============================] - 288s 454ms/step - loss: 0.1622 - accuracy: 0.9320 - val_loss: 0.1273 - val_accuracy: 0.9471\n",
            "Epoch 17/64\n",
            "633/633 [==============================] - ETA: 0s - loss: 0.1541 - accuracy: 0.9351\n",
            "Epoch 00017: val_loss did not improve from 0.12735\n",
            "633/633 [==============================] - 285s 451ms/step - loss: 0.1541 - accuracy: 0.9351 - val_loss: 0.1658 - val_accuracy: 0.9342\n",
            "Epoch 18/64\n",
            "633/633 [==============================] - ETA: 0s - loss: 0.1797 - accuracy: 0.9251\n",
            "Epoch 00018: val_loss did not improve from 0.12735\n",
            "633/633 [==============================] - 285s 450ms/step - loss: 0.1797 - accuracy: 0.9251 - val_loss: 0.1995 - val_accuracy: 0.9151\n",
            "Epoch 19/64\n",
            "633/633 [==============================] - ETA: 0s - loss: 0.1970 - accuracy: 0.9169\n",
            "Epoch 00019: val_loss did not improve from 0.12735\n",
            "633/633 [==============================] - 284s 449ms/step - loss: 0.1970 - accuracy: 0.9169 - val_loss: 0.2930 - val_accuracy: 0.8782\n",
            "Epoch 20/64\n",
            "633/633 [==============================] - ETA: 0s - loss: 0.2136 - accuracy: 0.9088\n",
            "Epoch 00020: val_loss did not improve from 0.12735\n",
            "633/633 [==============================] - 284s 449ms/step - loss: 0.2136 - accuracy: 0.9088 - val_loss: 0.3475 - val_accuracy: 0.8689\n",
            "Epoch 21/64\n",
            "633/633 [==============================] - ETA: 0s - loss: 0.1970 - accuracy: 0.9132\n",
            "Epoch 00021: val_loss did not improve from 0.12735\n",
            "633/633 [==============================] - 287s 454ms/step - loss: 0.1970 - accuracy: 0.9132 - val_loss: 0.1952 - val_accuracy: 0.9164\n",
            "Epoch 22/64\n",
            "633/633 [==============================] - ETA: 0s - loss: 0.1611 - accuracy: 0.9333\n",
            "Epoch 00022: val_loss did not improve from 0.12735\n",
            "633/633 [==============================] - 294s 465ms/step - loss: 0.1611 - accuracy: 0.9333 - val_loss: 0.2863 - val_accuracy: 0.8733\n",
            "Epoch 23/64\n",
            "633/633 [==============================] - ETA: 0s - loss: 0.1298 - accuracy: 0.9468\n",
            "Epoch 00023: val_loss improved from 0.12735 to 0.10429, saving model to drive/My Drive/collab/resnet_application.h5\n",
            "633/633 [==============================] - 292s 461ms/step - loss: 0.1298 - accuracy: 0.9468 - val_loss: 0.1043 - val_accuracy: 0.9596\n",
            "Epoch 24/64\n",
            "633/633 [==============================] - ETA: 0s - loss: 0.1013 - accuracy: 0.9599\n",
            "Epoch 00024: val_loss improved from 0.10429 to 0.08294, saving model to drive/My Drive/collab/resnet_application.h5\n",
            "633/633 [==============================] - 290s 458ms/step - loss: 0.1013 - accuracy: 0.9599 - val_loss: 0.0829 - val_accuracy: 0.9644\n",
            "Epoch 25/64\n",
            "633/633 [==============================] - ETA: 0s - loss: 0.0949 - accuracy: 0.9601\n",
            "Epoch 00025: val_loss did not improve from 0.08294\n",
            "633/633 [==============================] - 286s 452ms/step - loss: 0.0949 - accuracy: 0.9601 - val_loss: 0.0975 - val_accuracy: 0.9582\n",
            "Epoch 26/64\n",
            "633/633 [==============================] - ETA: 0s - loss: 0.1124 - accuracy: 0.9547\n",
            "Epoch 00026: val_loss did not improve from 0.08294\n",
            "633/633 [==============================] - 285s 450ms/step - loss: 0.1124 - accuracy: 0.9547 - val_loss: 0.1285 - val_accuracy: 0.9467\n",
            "Epoch 27/64\n",
            "633/633 [==============================] - ETA: 0s - loss: 0.1406 - accuracy: 0.9408\n",
            "Epoch 00027: val_loss did not improve from 0.08294\n",
            "633/633 [==============================] - 284s 448ms/step - loss: 0.1406 - accuracy: 0.9408 - val_loss: 0.1990 - val_accuracy: 0.9102\n",
            "Epoch 28/64\n",
            "633/633 [==============================] - ETA: 0s - loss: 0.1592 - accuracy: 0.9326\n",
            "Epoch 00028: val_loss did not improve from 0.08294\n",
            "633/633 [==============================] - 284s 449ms/step - loss: 0.1592 - accuracy: 0.9326 - val_loss: 0.3365 - val_accuracy: 0.8493\n",
            "Epoch 29/64\n",
            "633/633 [==============================] - ETA: 0s - loss: 0.1476 - accuracy: 0.9396\n",
            "Epoch 00029: val_loss did not improve from 0.08294\n",
            "633/633 [==============================] - 283s 448ms/step - loss: 0.1476 - accuracy: 0.9396 - val_loss: 0.1334 - val_accuracy: 0.9431\n",
            "Epoch 30/64\n",
            "633/633 [==============================] - ETA: 0s - loss: 0.1233 - accuracy: 0.9497\n",
            "Epoch 00030: val_loss did not improve from 0.08294\n",
            "633/633 [==============================] - 283s 448ms/step - loss: 0.1233 - accuracy: 0.9497 - val_loss: 0.1099 - val_accuracy: 0.9547\n",
            "Epoch 31/64\n",
            "633/633 [==============================] - ETA: 0s - loss: 0.0903 - accuracy: 0.9626\n",
            "Epoch 00031: val_loss did not improve from 0.08294\n",
            "633/633 [==============================] - 283s 448ms/step - loss: 0.0903 - accuracy: 0.9626 - val_loss: 0.1083 - val_accuracy: 0.9613\n",
            "Epoch 32/64\n",
            "633/633 [==============================] - ETA: 0s - loss: 0.0694 - accuracy: 0.9721\n",
            "Epoch 00032: val_loss improved from 0.08294 to 0.07518, saving model to drive/My Drive/collab/resnet_application.h5\n",
            "633/633 [==============================] - 287s 453ms/step - loss: 0.0694 - accuracy: 0.9721 - val_loss: 0.0752 - val_accuracy: 0.9693\n",
            "Epoch 33/64\n",
            "633/633 [==============================] - ETA: 0s - loss: 0.0653 - accuracy: 0.9742\n",
            "Epoch 00033: val_loss did not improve from 0.07518\n",
            "633/633 [==============================] - 285s 450ms/step - loss: 0.0653 - accuracy: 0.9742 - val_loss: 0.1136 - val_accuracy: 0.9573\n",
            "Epoch 34/64\n",
            "633/633 [==============================] - ETA: 0s - loss: 0.0853 - accuracy: 0.9650\n",
            "Epoch 00034: val_loss did not improve from 0.07518\n",
            "633/633 [==============================] - 284s 449ms/step - loss: 0.0853 - accuracy: 0.9650 - val_loss: 0.1244 - val_accuracy: 0.9533\n",
            "Epoch 35/64\n",
            "633/633 [==============================] - ETA: 0s - loss: 0.1044 - accuracy: 0.9567\n",
            "Epoch 00035: val_loss did not improve from 0.07518\n",
            "633/633 [==============================] - 284s 449ms/step - loss: 0.1044 - accuracy: 0.9567 - val_loss: 0.5328 - val_accuracy: 0.8049\n",
            "Epoch 36/64\n",
            "633/633 [==============================] - ETA: 0s - loss: 0.1211 - accuracy: 0.9504\n",
            "Epoch 00036: val_loss did not improve from 0.07518\n",
            "633/633 [==============================] - 284s 449ms/step - loss: 0.1211 - accuracy: 0.9504 - val_loss: 0.3023 - val_accuracy: 0.8876\n",
            "Epoch 37/64\n",
            "633/633 [==============================] - ETA: 0s - loss: 0.1202 - accuracy: 0.9491\n",
            "Epoch 00037: val_loss did not improve from 0.07518\n",
            "633/633 [==============================] - 284s 448ms/step - loss: 0.1202 - accuracy: 0.9491 - val_loss: 0.1145 - val_accuracy: 0.9542\n",
            "Epoch 38/64\n",
            "633/633 [==============================] - ETA: 0s - loss: 0.0925 - accuracy: 0.9638\n",
            "Epoch 00038: val_loss did not improve from 0.07518\n",
            "633/633 [==============================] - 282s 445ms/step - loss: 0.0925 - accuracy: 0.9638 - val_loss: 0.0923 - val_accuracy: 0.9627\n",
            "Epoch 39/64\n",
            "633/633 [==============================] - ETA: 0s - loss: 0.0750 - accuracy: 0.9693\n",
            "Epoch 00039: val_loss did not improve from 0.07518\n",
            "633/633 [==============================] - 289s 457ms/step - loss: 0.0750 - accuracy: 0.9693 - val_loss: 0.0890 - val_accuracy: 0.9618\n",
            "Epoch 40/64\n",
            "633/633 [==============================] - ETA: 0s - loss: 0.0572 - accuracy: 0.9783\n",
            "Epoch 00040: val_loss improved from 0.07518 to 0.07278, saving model to drive/My Drive/collab/resnet_application.h5\n",
            "633/633 [==============================] - 297s 469ms/step - loss: 0.0572 - accuracy: 0.9783 - val_loss: 0.0728 - val_accuracy: 0.9698\n",
            "Epoch 41/64\n",
            "633/633 [==============================] - ETA: 0s - loss: 0.0505 - accuracy: 0.9807\n",
            "Epoch 00041: val_loss did not improve from 0.07278\n",
            "633/633 [==============================] - 287s 453ms/step - loss: 0.0505 - accuracy: 0.9807 - val_loss: 0.0779 - val_accuracy: 0.9649\n",
            "Epoch 42/64\n",
            "633/633 [==============================] - ETA: 0s - loss: 0.0682 - accuracy: 0.9728\n",
            "Epoch 00042: val_loss did not improve from 0.07278\n",
            "633/633 [==============================] - 285s 451ms/step - loss: 0.0682 - accuracy: 0.9728 - val_loss: 0.4246 - val_accuracy: 0.8840\n",
            "Epoch 43/64\n",
            "633/633 [==============================] - ETA: 0s - loss: 0.0840 - accuracy: 0.9665\n",
            "Epoch 00043: val_loss did not improve from 0.07278\n",
            "633/633 [==============================] - 286s 452ms/step - loss: 0.0840 - accuracy: 0.9665 - val_loss: 0.2643 - val_accuracy: 0.9142\n",
            "Epoch 44/64\n",
            "633/633 [==============================] - ETA: 0s - loss: 0.1067 - accuracy: 0.9552\n",
            "Epoch 00044: val_loss did not improve from 0.07278\n",
            "633/633 [==============================] - 285s 451ms/step - loss: 0.1067 - accuracy: 0.9552 - val_loss: 0.1301 - val_accuracy: 0.9436\n",
            "Epoch 45/64\n",
            "633/633 [==============================] - ETA: 0s - loss: 0.0973 - accuracy: 0.9611\n",
            "Epoch 00045: val_loss did not improve from 0.07278\n",
            "633/633 [==============================] - 285s 450ms/step - loss: 0.0973 - accuracy: 0.9611 - val_loss: 0.2556 - val_accuracy: 0.8898\n",
            "Epoch 46/64\n",
            "633/633 [==============================] - ETA: 0s - loss: 0.0789 - accuracy: 0.9685\n",
            "Epoch 00046: val_loss did not improve from 0.07278\n",
            "633/633 [==============================] - 286s 451ms/step - loss: 0.0789 - accuracy: 0.9685 - val_loss: 0.0966 - val_accuracy: 0.9649\n",
            "Epoch 47/64\n",
            "633/633 [==============================] - ETA: 0s - loss: 0.0579 - accuracy: 0.9781\n",
            "Epoch 00047: val_loss improved from 0.07278 to 0.06312, saving model to drive/My Drive/collab/resnet_application.h5\n",
            "633/633 [==============================] - 290s 458ms/step - loss: 0.0579 - accuracy: 0.9781 - val_loss: 0.0631 - val_accuracy: 0.9751\n",
            "Epoch 48/64\n",
            "633/633 [==============================] - ETA: 0s - loss: 0.0452 - accuracy: 0.9825\n",
            "Epoch 00048: val_loss did not improve from 0.06312\n",
            "633/633 [==============================] - 287s 453ms/step - loss: 0.0452 - accuracy: 0.9825 - val_loss: 0.0642 - val_accuracy: 0.9787\n",
            "Epoch 49/64\n",
            "633/633 [==============================] - ETA: 0s - loss: 0.0426 - accuracy: 0.9835\n",
            "Epoch 00049: val_loss did not improve from 0.06312\n",
            "633/633 [==============================] - 286s 452ms/step - loss: 0.0426 - accuracy: 0.9835 - val_loss: 0.0825 - val_accuracy: 0.9689\n",
            "Epoch 50/64\n",
            "633/633 [==============================] - ETA: 0s - loss: 0.0548 - accuracy: 0.9779\n",
            "Epoch 00050: val_loss did not improve from 0.06312\n",
            "633/633 [==============================] - 287s 454ms/step - loss: 0.0548 - accuracy: 0.9779 - val_loss: 0.1093 - val_accuracy: 0.9609\n",
            "Epoch 51/64\n",
            "633/633 [==============================] - ETA: 0s - loss: 0.0714 - accuracy: 0.9716\n",
            "Epoch 00051: val_loss did not improve from 0.06312\n",
            "633/633 [==============================] - 286s 451ms/step - loss: 0.0714 - accuracy: 0.9716 - val_loss: 0.2843 - val_accuracy: 0.8813\n",
            "Epoch 52/64\n",
            "633/633 [==============================] - ETA: 0s - loss: 0.0857 - accuracy: 0.9651\n",
            "Epoch 00052: val_loss did not improve from 0.06312\n",
            "633/633 [==============================] - 286s 451ms/step - loss: 0.0857 - accuracy: 0.9651 - val_loss: 0.1360 - val_accuracy: 0.9422\n",
            "Epoch 53/64\n",
            "633/633 [==============================] - ETA: 0s - loss: 0.0801 - accuracy: 0.9682\n",
            "Epoch 00053: val_loss did not improve from 0.06312\n",
            "633/633 [==============================] - 285s 451ms/step - loss: 0.0801 - accuracy: 0.9682 - val_loss: 0.0968 - val_accuracy: 0.9604\n",
            "Epoch 54/64\n",
            "633/633 [==============================] - ETA: 0s - loss: 0.0674 - accuracy: 0.9723\n",
            "Epoch 00054: val_loss did not improve from 0.06312\n",
            "633/633 [==============================] - 285s 450ms/step - loss: 0.0674 - accuracy: 0.9723 - val_loss: 0.0813 - val_accuracy: 0.9689\n",
            "Epoch 55/64\n",
            "633/633 [==============================] - ETA: 0s - loss: 0.0499 - accuracy: 0.9808\n",
            "Epoch 00055: val_loss did not improve from 0.06312\n",
            "633/633 [==============================] - 285s 450ms/step - loss: 0.0499 - accuracy: 0.9808 - val_loss: 0.0722 - val_accuracy: 0.9711\n",
            "Epoch 00055: early stopping\n",
            "Finished in: 4:24:32.701652\n",
            "2020-11-02 13:26:24.388533\n"
          ],
          "name": "stdout"
        }
      ]
    },
    {
      "cell_type": "code",
      "metadata": {
        "id": "I6OP3rG6FXq-",
        "outputId": "5c646f57-1480-4ae6-ce2b-72c042074d2d",
        "colab": {
          "base_uri": "https://localhost:8080/",
          "height": 329
        }
      },
      "source": [
        "training_history_plots(history, clr)"
      ],
      "execution_count": null,
      "outputs": [
        {
          "output_type": "display_data",
          "data": {
            "image/png": "[encoded data removed]",
            "text/plain": [
              "<Figure size 2160x432 with 3 Axes>"
            ]
          },
          "metadata": {
            "tags": [],
            "needs_background": "light"
          }
        }
      ]
    },
    {
      "cell_type": "code",
      "metadata": {
        "id": "Wg8oOhqhCWqa",
        "outputId": "cc2f12c1-80aa-464e-9d39-6986629affc0",
        "colab": {
          "base_uri": "https://localhost:8080/"
        }
      },
      "source": [
        "test_loss, test_acc = model.evaluate(test_generator, verbose=1)"
      ],
      "execution_count": null,
      "outputs": [
        {
          "output_type": "stream",
          "text": [
            "79/79 [==============================] - 9s 110ms/step - loss: 0.0863 - accuracy: 0.9680\n"
          ],
          "name": "stdout"
        }
      ]
    },
    {
      "cell_type": "code",
      "metadata": {
        "id": "rjhkpusH9-PL"
      },
      "source": [
        "# read in best version of model here\n",
        "saved_model = tf.keras.models.load_model('drive/My Drive/collab/' + experiment_name + '.h5')"
      ],
      "execution_count": null,
      "outputs": []
    },
    {
      "cell_type": "code",
      "metadata": {
        "id": "nelA7zpe9-Ro",
        "outputId": "8debd4c9-bb1b-4bb2-8047-05fe6b6568fe",
        "colab": {
          "base_uri": "https://localhost:8080/"
        }
      },
      "source": [
        "test_loss, test_acc = saved_model.evaluate(test_generator, verbose=1)"
      ],
      "execution_count": null,
      "outputs": [
        {
          "output_type": "stream",
          "text": [
            "79/79 [==============================] - 9s 109ms/step - loss: 0.0844 - accuracy: 0.4848\n"
          ],
          "name": "stdout"
        }
      ]
    },
    {
      "cell_type": "code",
      "metadata": {
        "id": "gg4VM8ORJMM-",
        "outputId": "b04875b8-51b7-41c9-8e37-df49cacfa2cd",
        "colab": {
          "base_uri": "https://localhost:8080/"
        }
      },
      "source": [
        "preds = []\n",
        "actuals = []\n",
        "for i in range(78):\n",
        "    X, y = test_generator.next()\n",
        "    prediction = saved_model.predict(X)\n",
        "    preds.append(list(np.round(prediction[:, 1])))\n",
        "    actuals.append(list(y))\n",
        "\n",
        "actuals = [item for sublist in actuals for item in sublist]\n",
        "preds = [item for sublist in preds for item in sublist]\n",
        "print('Accuracy score: {}'.format(accuracy_score(actuals, preds)))\n",
        "confusion_matrix(actuals, preds)"
      ],
      "execution_count": null,
      "outputs": [
        {
          "output_type": "stream",
          "text": [
            "Accuracy score: 0.9703525641025641\n"
          ],
          "name": "stdout"
        },
        {
          "output_type": "execute_result",
          "data": {
            "text/plain": [
              "array([[1169,   31],\n",
              "       [  43, 1253]])"
            ]
          },
          "metadata": {
            "tags": []
          },
          "execution_count": 55
        }
      ]
    }
  ]
}