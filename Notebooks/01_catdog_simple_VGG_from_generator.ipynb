{
  "nbformat": 4,
  "nbformat_minor": 0,
  "metadata": {
    "colab": {
      "name": "catdog_simple_VGG_from_generator.ipynb",
      "provenance": [],
      "collapsed_sections": [],
      "machine_shape": "hm"
    },
    "kernelspec": {
      "name": "python3",
      "display_name": "Python 3"
    },
    "accelerator": "GPU"
  },
  "cells": [
    {
      "cell_type": "code",
      "metadata": {
        "id": "3CXmCusHu9fF",
        "outputId": "58286b08-109c-4739-ca12-6b095aa83a83",
        "colab": {
          "base_uri": "https://localhost:8080/",
          "height": 34
        }
      },
      "source": [
        "# Mount drive to save stuff there for later\n",
        "from google.colab import drive, files\n",
        "drive.mount('/content/drive/')"
      ],
      "execution_count": null,
      "outputs": [
        {
          "output_type": "stream",
          "text": [
            "Mounted at /content/drive/\n"
          ],
          "name": "stdout"
        }
      ]
    },
    {
      "cell_type": "code",
      "metadata": {
        "id": "Ps_JH1_ux5Q2",
        "outputId": "853d8b9a-8793-4276-c68b-0f83e544e3cc",
        "colab": {
          "resources": {
            "http://localhost:8080/nbextensions/google.colab/files.js": {
              "data": "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",
              "ok": true,
              "headers": [
                [
                  "content-type",
                  "application/javascript"
                ]
              ],
              "status": 200,
              "status_text": ""
            }
          },
          "base_uri": "https://localhost:8080/",
          "height": 73
        }
      },
      "source": [
        "# Upload kaggle api key\n",
        "! pip install -q kaggle\n",
        "files.upload()\n",
        "\n",
        "! mkdir ~/.kaggle\n",
        "! cp kaggle.json ~/.kaggle/\n",
        "! chmod 600 ~/.kaggle/kaggle.json"
      ],
      "execution_count": null,
      "outputs": [
        {
          "output_type": "display_data",
          "data": {
            "text/html": [
              "\n",
              "     <input type=\"file\" id=\"files-7404238f-a915-486c-b048-fdc8509f3b37\" name=\"files[]\" multiple disabled\n",
              "        style=\"border:none\" />\n",
              "     <output id=\"result-7404238f-a915-486c-b048-fdc8509f3b37\">\n",
              "      Upload widget is only available when the cell has been executed in the\n",
              "      current browser session. Please rerun this cell to enable.\n",
              "      </output>\n",
              "      <script src=\"/nbextensions/google.colab/files.js\"></script> "
            ],
            "text/plain": [
              "<IPython.core.display.HTML object>"
            ]
          },
          "metadata": {
            "tags": []
          }
        },
        {
          "output_type": "stream",
          "text": [
            "Saving kaggle.json to kaggle.json\n"
          ],
          "name": "stdout"
        }
      ]
    },
    {
      "cell_type": "code",
      "metadata": {
        "id": "AVk6hX3bzGH2",
        "outputId": "bc835d46-fef7-450e-dfcd-820284e83260",
        "colab": {
          "base_uri": "https://localhost:8080/",
          "height": 185
        }
      },
      "source": [
        "# Fetch train and test data from kaggle\n",
        "! kaggle competitions download -c dogs-vs-cats-redux-kernels-edition\n",
        "\n",
        "! mkdir train\n",
        "! unzip train.zip -d train > downloadlog.txt\n",
        "\n",
        "! mkdir test\n",
        "! unzip test.zip -d test >> downloadlog.txt"
      ],
      "execution_count": null,
      "outputs": [
        {
          "output_type": "stream",
          "text": [
            "Warning: Looks like you're using an outdated API Version, please consider updating (server 1.5.6 / client 1.5.4)\n",
            "Downloading test.zip to /content\n",
            " 95% 258M/271M [00:05<00:00, 51.9MB/s]\n",
            "100% 271M/271M [00:06<00:00, 47.2MB/s]\n",
            "Downloading train.zip to /content\n",
            " 98% 532M/544M [00:10<00:00, 46.1MB/s]\n",
            "100% 544M/544M [00:11<00:00, 51.3MB/s]\n",
            "Downloading sample_submission.csv to /content\n",
            "  0% 0.00/111k [00:00<?, ?B/s]\n",
            "100% 111k/111k [00:00<00:00, 99.5MB/s]\n"
          ],
          "name": "stdout"
        }
      ]
    },
    {
      "cell_type": "code",
      "metadata": {
        "id": "g5coCTbHtOlt"
      },
      "source": [
        "import glob\n",
        "import os\n",
        "import cv2\n",
        "import math\n",
        "import datetime\n",
        "import sys\n",
        "import tensorflow as tf\n",
        "import numpy as np\n",
        "import matplotlib.pyplot as plt\n",
        "import pandas as pd\n",
        "import shutil\n",
        "\n",
        "from PIL import Image\n",
        "from sklearn.model_selection import train_test_split\n",
        "from sklearn.metrics import confusion_matrix, accuracy_score, log_loss\n",
        "from tensorflow.keras.callbacks import *\n",
        "from tensorflow.keras import backend as K\n",
        "from tqdm import tqdm\n",
        "from keras.preprocessing.image import ImageDataGenerator\n",
        "from pylab import rcParams"
      ],
      "execution_count": null,
      "outputs": []
    },
    {
      "cell_type": "code",
      "metadata": {
        "id": "19h97Gbq2OrN",
        "outputId": "d2e995d8-0d65-4995-d4a3-b4b314555467",
        "colab": {
          "base_uri": "https://localhost:8080/",
          "height": 185
        }
      },
      "source": [
        "# Check dirs on VM\n",
        "os.listdir()"
      ],
      "execution_count": null,
      "outputs": [
        {
          "output_type": "execute_result",
          "data": {
            "text/plain": [
              "['.config',\n",
              " 'test',\n",
              " 'drive',\n",
              " 'sample_submission.csv',\n",
              " 'test.zip',\n",
              " 'downloadlog.txt',\n",
              " 'train.zip',\n",
              " 'kaggle.json',\n",
              " 'train',\n",
              " 'sample_data']"
            ]
          },
          "metadata": {
            "tags": []
          },
          "execution_count": 5
        }
      ]
    },
    {
      "cell_type": "code",
      "metadata": {
        "id": "DlvYvnES8xlf"
      },
      "source": [
        "# Import UDFs\n",
        "os.chdir('drive/My Drive/collab')\n",
        "from helper_functions import *"
      ],
      "execution_count": null,
      "outputs": []
    },
    {
      "cell_type": "code",
      "metadata": {
        "id": "1FIOpvN511b7"
      },
      "source": [
        "# Settings\n",
        "INITIAL_TRAIN_DIR = 'train/train/' \n",
        "COMP_DIR = 'test/test/' \n",
        "\n",
        "train_data_dir = 'data/train'\n",
        "validation_data_dir = 'data/validation'\n",
        "test_data_dir = 'data/test'\n",
        "\n",
        "np.random.seed(0)\n",
        "tf.random.set_seed(0)\n",
        "\n",
        "ROWS = 224\n",
        "COLS = 224\n",
        "CHANNELS = 3\n",
        "\n",
        "MIN_LR = 0.00003 \n",
        "MAX_LR = 0.00035 \n",
        "BATCHSIZE = 32\n",
        "CLR_METHOD = \"triangular\"\n",
        "GAMMA = 0.99995\n",
        "EPOCHS = 64\n",
        "STEP_SIZE = 4 \n",
        "\n",
        "rotation_range = 15\n",
        "zoom_range = 0.15\n",
        "width_shift_range = 0.2\n",
        "height_shift_range = 0.2\n",
        "shear_range = 0.15\n",
        "horizontal_flip = True\n",
        "fill_mode = \"nearest\"\n",
        "\n",
        "experiment_name = 'larger_network_on224'\n",
        "model_version = str(9)\n",
        "\n",
        "rcParams['figure.figsize'] = 30, 6"
      ],
      "execution_count": null,
      "outputs": []
    },
    {
      "cell_type": "code",
      "metadata": {
        "id": "qvy6d6Po1XHX"
      },
      "source": [
        "os.chdir('../../..')\n",
        "X_files = np.array([INITIAL_TRAIN_DIR+i for i in os.listdir(INITIAL_TRAIN_DIR)])\n",
        "\n",
        "# Get train and testset\n",
        "X_train_filenames, X_test_filenames = train_test_split(X_files, test_size=0.1, random_state=0)\n",
        "\n",
        "# Split traindata again into train and validation\n",
        "X_train_filenames, X_val_filenames = train_test_split(X_train_filenames, test_size=0.1, random_state=0)"
      ],
      "execution_count": null,
      "outputs": []
    },
    {
      "cell_type": "code",
      "metadata": {
        "id": "VXPG8AVCK_ID",
        "outputId": "b9a7b070-1ae5-45cc-8b4b-0d457c90a8c3",
        "colab": {
          "base_uri": "https://localhost:8080/",
          "height": 185
        }
      },
      "source": [
        "sort_test_images(COMP_DIR)\n",
        "prepare_file_structure(X_train_filenames, X_val_filenames, X_test_filenames)\n",
        "show_directory_structure(startpath='data')"
      ],
      "execution_count": null,
      "outputs": [
        {
          "output_type": "stream",
          "text": [
            "data/\n",
            "   validation/\n",
            "      dogs/\n",
            "      cats/\n",
            "   test/\n",
            "      dogs/\n",
            "      cats/\n",
            "   train/\n",
            "      dogs/\n",
            "      cats/\n"
          ],
          "name": "stdout"
        }
      ]
    },
    {
      "cell_type": "code",
      "metadata": {
        "id": "CY3Wi6DwLZm_",
        "outputId": "42a8ae9d-d169-4c00-d74b-ff5abf9bbf65",
        "colab": {
          "base_uri": "https://localhost:8080/",
          "height": 101
        }
      },
      "source": [
        "# Show examples of filenames\n",
        "os.listdir('data/train/dogs/')[:5]"
      ],
      "execution_count": null,
      "outputs": [
        {
          "output_type": "execute_result",
          "data": {
            "text/plain": [
              "['dog.12373.jpg',\n",
              " 'dog.2385.jpg',\n",
              " 'dog.12331.jpg',\n",
              " 'dog.10228.jpg',\n",
              " 'dog.2839.jpg']"
            ]
          },
          "metadata": {
            "tags": []
          },
          "execution_count": 10
        }
      ]
    },
    {
      "cell_type": "code",
      "metadata": {
        "id": "uYYni9Is1w71",
        "outputId": "53627321-9373-4204-9f2f-45e3353d1618",
        "colab": {
          "base_uri": "https://localhost:8080/",
          "height": 756
        }
      },
      "source": [
        "# Create model\n",
        "model = initialize_simplified_VGG(ROWS, COLS, CHANNELS)\n",
        "\n",
        "model.compile(optimizer=tf.keras.optimizers.Adam(learning_rate=0.0001, beta_1=0.9, beta_2=0.999),\n",
        "              loss='sparse_categorical_crossentropy',  # Sparse for integers, just categorical for one hot encoded\n",
        "              metrics=['accuracy'])\n",
        "\n",
        "model.summary()"
      ],
      "execution_count": null,
      "outputs": [
        {
          "output_type": "stream",
          "text": [
            "Model: \"sequential\"\n",
            "_________________________________________________________________\n",
            "Layer (type)                 Output Shape              Param #   \n",
            "=================================================================\n",
            "conv2d (Conv2D)              (None, 224, 224, 32)      896       \n",
            "_________________________________________________________________\n",
            "conv2d_1 (Conv2D)            (None, 224, 224, 32)      9248      \n",
            "_________________________________________________________________\n",
            "average_pooling2d (AveragePo (None, 112, 112, 32)      0         \n",
            "_________________________________________________________________\n",
            "conv2d_2 (Conv2D)            (None, 112, 112, 64)      18496     \n",
            "_________________________________________________________________\n",
            "conv2d_3 (Conv2D)            (None, 112, 112, 64)      36928     \n",
            "_________________________________________________________________\n",
            "average_pooling2d_1 (Average (None, 56, 56, 64)        0         \n",
            "_________________________________________________________________\n",
            "conv2d_4 (Conv2D)            (None, 56, 56, 128)       73856     \n",
            "_________________________________________________________________\n",
            "conv2d_5 (Conv2D)            (None, 56, 56, 128)       147584    \n",
            "_________________________________________________________________\n",
            "conv2d_6 (Conv2D)            (None, 56, 56, 128)       147584    \n",
            "_________________________________________________________________\n",
            "average_pooling2d_2 (Average (None, 28, 28, 128)       0         \n",
            "_________________________________________________________________\n",
            "conv2d_7 (Conv2D)            (None, 28, 28, 256)       295168    \n",
            "_________________________________________________________________\n",
            "conv2d_8 (Conv2D)            (None, 28, 28, 256)       590080    \n",
            "_________________________________________________________________\n",
            "conv2d_9 (Conv2D)            (None, 28, 28, 256)       590080    \n",
            "_________________________________________________________________\n",
            "average_pooling2d_3 (Average (None, 14, 14, 256)       0         \n",
            "_________________________________________________________________\n",
            "flatten (Flatten)            (None, 50176)             0         \n",
            "_________________________________________________________________\n",
            "dense (Dense)                (None, 512)               25690624  \n",
            "_________________________________________________________________\n",
            "dense_1 (Dense)              (None, 512)               262656    \n",
            "_________________________________________________________________\n",
            "dense_2 (Dense)              (None, 2)                 1026      \n",
            "=================================================================\n",
            "Total params: 27,864,226\n",
            "Trainable params: 27,864,226\n",
            "Non-trainable params: 0\n",
            "_________________________________________________________________\n"
          ],
          "name": "stdout"
        }
      ]
    },
    {
      "cell_type": "code",
      "metadata": {
        "id": "x5FbBfd813j1",
        "outputId": "bd4e1d33-eba4-4a3c-ce41-4593b9e2bf57",
        "colab": {
          "base_uri": "https://localhost:8080/",
          "height": 84
        }
      },
      "source": [
        "# save best model checkpoint\n",
        "save_model = tf.keras.callbacks.ModelCheckpoint('drive/My Drive/collab/vgg16_' + experiment_name + '.h5', monitor='val_loss', verbose=1, save_best_only=True, \n",
        "                                                save_weights_only=False, mode='auto', save_freq='epoch')\n",
        "\n",
        "# Early stopping callback\n",
        "early = tf.keras.callbacks.EarlyStopping(monitor='val_loss', min_delta=0, patience=8, verbose=1, mode='auto')\n",
        "\n",
        "# Cyclical learning rate callback\n",
        "clr = CyclicLR(base_lr=MIN_LR, max_lr=MAX_LR, step_size=STEP_SIZE * -(-len(X_train_filenames)//BATCHSIZE), mode=CLR_METHOD, gamma=GAMMA)\n",
        "\n",
        "# Create tensorboard callback\n",
        "log_dir = \"drive/My Drive/collab/logs/fit/\" + experiment_name\n",
        "tensorboard_callback = tf.keras.callbacks.TensorBoard(log_dir=log_dir, histogram_freq=1)\n",
        "\n",
        "# Create augmentation generator\n",
        "train_aug = ImageDataGenerator(\n",
        "\t\trescale=1./255,\n",
        "    rotation_range=rotation_range,\n",
        "\t\tzoom_range=zoom_range,\n",
        "\t\twidth_shift_range=width_shift_range,\n",
        "\t\theight_shift_range=height_shift_range,\n",
        "\t\tshear_range=shear_range,\n",
        "\t\thorizontal_flip=horizontal_flip,\n",
        "\t\tfill_mode=fill_mode\n",
        ")\n",
        "\n",
        "test_aug = ImageDataGenerator(rescale=1./255)\n",
        "\n",
        "train_generator = train_aug.flow_from_directory(train_data_dir, target_size=(ROWS, COLS), batch_size=BATCHSIZE, class_mode='binary')\n",
        "val_generator = test_aug.flow_from_directory(validation_data_dir, target_size=(ROWS, COLS), batch_size=BATCHSIZE, class_mode='binary')\n",
        "test_generator = test_aug.flow_from_directory(test_data_dir, target_size=(ROWS, COLS), batch_size=BATCHSIZE, class_mode='binary', shuffle=False)\n",
        "comp_generator = test_aug.flow_from_directory('test', target_size=(ROWS, COLS), batch_size=BATCHSIZE, class_mode='binary', shuffle=False)"
      ],
      "execution_count": null,
      "outputs": [
        {
          "output_type": "stream",
          "text": [
            "Found 20250 images belonging to 2 classes.\n",
            "Found 2250 images belonging to 2 classes.\n",
            "Found 2500 images belonging to 2 classes.\n",
            "Found 12500 images belonging to 1 classes.\n"
          ],
          "name": "stdout"
        }
      ]
    },
    {
      "cell_type": "code",
      "metadata": {
        "id": "D3hIr7eE1_be",
        "outputId": "a65ebc35-e64e-4487-8965-61ebf5583cae",
        "colab": {
          "base_uri": "https://localhost:8080/",
          "height": 1000
        }
      },
      "source": [
        "# Train model\n",
        "start = datetime.datetime.now()\n",
        "print(start)\n",
        "\n",
        "history = model.fit(train_generator,\n",
        "                    batch_size=BATCHSIZE,\n",
        "                    epochs=EPOCHS, \n",
        "                    validation_data=val_generator,\n",
        "                    verbose=1,\n",
        "                    callbacks=[clr, early, save_model, tensorboard_callback]\n",
        "                ) \n",
        "\n",
        "print('Finished in: {}'.format(datetime.datetime.now() - start))\n",
        "print(datetime.datetime.now())"
      ],
      "execution_count": null,
      "outputs": [
        {
          "output_type": "stream",
          "text": [
            "2020-10-19 16:39:47.169806\n",
            "Epoch 1/64\n",
            "  1/633 [..............................] - ETA: 0s - loss: 0.6935 - accuracy: 0.4375WARNING:tensorflow:From /usr/local/lib/python3.6/dist-packages/tensorflow/python/ops/summary_ops_v2.py:1277: stop (from tensorflow.python.eager.profiler) is deprecated and will be removed after 2020-07-01.\n",
            "Instructions for updating:\n",
            "use `tf.profiler.experimental.stop` instead.\n",
            "  2/633 [..............................] - ETA: 42s - loss: 0.6927 - accuracy: 0.5000WARNING:tensorflow:Callbacks method `on_train_batch_end` is slow compared to the batch time (batch time: 0.0273s vs `on_train_batch_end` time: 0.1076s). Check your callbacks.\n",
            "633/633 [==============================] - ETA: 0s - loss: 0.6798 - accuracy: 0.5599\n",
            "Epoch 00001: val_loss improved from inf to 0.62683, saving model to drive/My Drive/collab/vgg16_larger_network_on224.h5\n",
            "633/633 [==============================] - 269s 425ms/step - loss: 0.6798 - accuracy: 0.5599 - val_loss: 0.6268 - val_accuracy: 0.6604\n",
            "Epoch 2/64\n",
            "633/633 [==============================] - ETA: 0s - loss: 0.6465 - accuracy: 0.6269\n",
            "Epoch 00002: val_loss improved from 0.62683 to 0.60144, saving model to drive/My Drive/collab/vgg16_larger_network_on224.h5\n",
            "633/633 [==============================] - 271s 428ms/step - loss: 0.6465 - accuracy: 0.6269 - val_loss: 0.6014 - val_accuracy: 0.7009\n",
            "Epoch 3/64\n",
            "633/633 [==============================] - ETA: 0s - loss: 0.5944 - accuracy: 0.6844\n",
            "Epoch 00003: val_loss improved from 0.60144 to 0.56552, saving model to drive/My Drive/collab/vgg16_larger_network_on224.h5\n",
            "633/633 [==============================] - 270s 427ms/step - loss: 0.5944 - accuracy: 0.6844 - val_loss: 0.5655 - val_accuracy: 0.7058\n",
            "Epoch 4/64\n",
            "633/633 [==============================] - ETA: 0s - loss: 0.5639 - accuracy: 0.7127\n",
            "Epoch 00004: val_loss improved from 0.56552 to 0.48901, saving model to drive/My Drive/collab/vgg16_larger_network_on224.h5\n",
            "633/633 [==============================] - 272s 430ms/step - loss: 0.5639 - accuracy: 0.7127 - val_loss: 0.4890 - val_accuracy: 0.7698\n",
            "Epoch 5/64\n",
            "633/633 [==============================] - ETA: 0s - loss: 0.5113 - accuracy: 0.7507\n",
            "Epoch 00005: val_loss improved from 0.48901 to 0.41253, saving model to drive/My Drive/collab/vgg16_larger_network_on224.h5\n",
            "633/633 [==============================] - 260s 411ms/step - loss: 0.5113 - accuracy: 0.7507 - val_loss: 0.4125 - val_accuracy: 0.8093\n",
            "Epoch 6/64\n",
            "633/633 [==============================] - ETA: 0s - loss: 0.4471 - accuracy: 0.7916\n",
            "Epoch 00006: val_loss improved from 0.41253 to 0.38225, saving model to drive/My Drive/collab/vgg16_larger_network_on224.h5\n",
            "633/633 [==============================] - 244s 386ms/step - loss: 0.4471 - accuracy: 0.7916 - val_loss: 0.3823 - val_accuracy: 0.8329\n",
            "Epoch 7/64\n",
            "633/633 [==============================] - ETA: 0s - loss: 0.3871 - accuracy: 0.8241\n",
            "Epoch 00007: val_loss improved from 0.38225 to 0.32314, saving model to drive/My Drive/collab/vgg16_larger_network_on224.h5\n",
            "633/633 [==============================] - 243s 385ms/step - loss: 0.3871 - accuracy: 0.8241 - val_loss: 0.3231 - val_accuracy: 0.8578\n",
            "Epoch 8/64\n",
            "633/633 [==============================] - ETA: 0s - loss: 0.3329 - accuracy: 0.8532\n",
            "Epoch 00008: val_loss improved from 0.32314 to 0.27944, saving model to drive/My Drive/collab/vgg16_larger_network_on224.h5\n",
            "633/633 [==============================] - 243s 383ms/step - loss: 0.3329 - accuracy: 0.8532 - val_loss: 0.2794 - val_accuracy: 0.8778\n",
            "Epoch 9/64\n",
            "633/633 [==============================] - ETA: 0s - loss: 0.3071 - accuracy: 0.8682\n",
            "Epoch 00009: val_loss did not improve from 0.27944\n",
            "633/633 [==============================] - 238s 375ms/step - loss: 0.3071 - accuracy: 0.8682 - val_loss: 0.2953 - val_accuracy: 0.8756\n",
            "Epoch 10/64\n",
            "633/633 [==============================] - ETA: 0s - loss: 0.3119 - accuracy: 0.8671\n",
            "Epoch 00010: val_loss did not improve from 0.27944\n",
            "633/633 [==============================] - 239s 377ms/step - loss: 0.3119 - accuracy: 0.8671 - val_loss: 0.3014 - val_accuracy: 0.8711\n",
            "Epoch 11/64\n",
            "633/633 [==============================] - ETA: 0s - loss: 0.3071 - accuracy: 0.8664\n",
            "Epoch 00011: val_loss improved from 0.27944 to 0.24757, saving model to drive/My Drive/collab/vgg16_larger_network_on224.h5\n",
            "633/633 [==============================] - 243s 383ms/step - loss: 0.3071 - accuracy: 0.8664 - val_loss: 0.2476 - val_accuracy: 0.8956\n",
            "Epoch 12/64\n",
            "633/633 [==============================] - ETA: 0s - loss: 0.3012 - accuracy: 0.8740\n",
            "Epoch 00012: val_loss did not improve from 0.24757\n",
            "633/633 [==============================] - 240s 379ms/step - loss: 0.3012 - accuracy: 0.8740 - val_loss: 0.2610 - val_accuracy: 0.8942\n",
            "Epoch 13/64\n",
            "633/633 [==============================] - ETA: 0s - loss: 0.2760 - accuracy: 0.8819\n",
            "Epoch 00013: val_loss improved from 0.24757 to 0.20780, saving model to drive/My Drive/collab/vgg16_larger_network_on224.h5\n",
            "633/633 [==============================] - 241s 381ms/step - loss: 0.2760 - accuracy: 0.8819 - val_loss: 0.2078 - val_accuracy: 0.9169\n",
            "Epoch 14/64\n",
            "633/633 [==============================] - ETA: 0s - loss: 0.2211 - accuracy: 0.9069\n",
            "Epoch 00014: val_loss improved from 0.20780 to 0.17836, saving model to drive/My Drive/collab/vgg16_larger_network_on224.h5\n",
            "633/633 [==============================] - 244s 386ms/step - loss: 0.2211 - accuracy: 0.9069 - val_loss: 0.1784 - val_accuracy: 0.9244\n",
            "Epoch 15/64\n",
            "633/633 [==============================] - ETA: 0s - loss: 0.1850 - accuracy: 0.9223\n",
            "Epoch 00015: val_loss did not improve from 0.17836\n",
            "633/633 [==============================] - 242s 383ms/step - loss: 0.1850 - accuracy: 0.9223 - val_loss: 0.1909 - val_accuracy: 0.9164\n",
            "Epoch 16/64\n",
            "633/633 [==============================] - ETA: 0s - loss: 0.1518 - accuracy: 0.9386\n",
            "Epoch 00016: val_loss improved from 0.17836 to 0.13913, saving model to drive/My Drive/collab/vgg16_larger_network_on224.h5\n",
            "633/633 [==============================] - 243s 383ms/step - loss: 0.1518 - accuracy: 0.9386 - val_loss: 0.1391 - val_accuracy: 0.9391\n",
            "Epoch 17/64\n",
            "633/633 [==============================] - ETA: 0s - loss: 0.1394 - accuracy: 0.9424\n",
            "Epoch 00017: val_loss did not improve from 0.13913\n",
            "633/633 [==============================] - 244s 385ms/step - loss: 0.1394 - accuracy: 0.9424 - val_loss: 0.2561 - val_accuracy: 0.9031\n",
            "Epoch 18/64\n",
            "633/633 [==============================] - ETA: 0s - loss: 0.1561 - accuracy: 0.9357\n",
            "Epoch 00018: val_loss did not improve from 0.13913\n",
            "633/633 [==============================] - 244s 385ms/step - loss: 0.1561 - accuracy: 0.9357 - val_loss: 0.1470 - val_accuracy: 0.9449\n",
            "Epoch 19/64\n",
            "633/633 [==============================] - ETA: 0s - loss: 0.1675 - accuracy: 0.9327\n",
            "Epoch 00019: val_loss did not improve from 0.13913\n",
            "633/633 [==============================] - 243s 384ms/step - loss: 0.1675 - accuracy: 0.9327 - val_loss: 0.1419 - val_accuracy: 0.9413\n",
            "Epoch 20/64\n",
            "633/633 [==============================] - ETA: 0s - loss: 0.1759 - accuracy: 0.9271\n",
            "Epoch 00020: val_loss did not improve from 0.13913\n",
            "633/633 [==============================] - 243s 384ms/step - loss: 0.1759 - accuracy: 0.9271 - val_loss: 0.1559 - val_accuracy: 0.9329\n",
            "Epoch 21/64\n",
            "633/633 [==============================] - ETA: 0s - loss: 0.1650 - accuracy: 0.9319\n",
            "Epoch 00021: val_loss did not improve from 0.13913\n",
            "633/633 [==============================] - 242s 383ms/step - loss: 0.1650 - accuracy: 0.9319 - val_loss: 0.2016 - val_accuracy: 0.9236\n",
            "Epoch 22/64\n",
            "633/633 [==============================] - ETA: 0s - loss: 0.1420 - accuracy: 0.9407\n",
            "Epoch 00022: val_loss improved from 0.13913 to 0.12136, saving model to drive/My Drive/collab/vgg16_larger_network_on224.h5\n",
            "633/633 [==============================] - 251s 396ms/step - loss: 0.1420 - accuracy: 0.9407 - val_loss: 0.1214 - val_accuracy: 0.9453\n",
            "Epoch 23/64\n",
            "633/633 [==============================] - ETA: 0s - loss: 0.1194 - accuracy: 0.9515\n",
            "Epoch 00023: val_loss improved from 0.12136 to 0.11233, saving model to drive/My Drive/collab/vgg16_larger_network_on224.h5\n",
            "633/633 [==============================] - 250s 395ms/step - loss: 0.1194 - accuracy: 0.9515 - val_loss: 0.1123 - val_accuracy: 0.9524\n",
            "Epoch 24/64\n",
            "633/633 [==============================] - ETA: 0s - loss: 0.0924 - accuracy: 0.9632\n",
            "Epoch 00024: val_loss improved from 0.11233 to 0.11068, saving model to drive/My Drive/collab/vgg16_larger_network_on224.h5\n",
            "633/633 [==============================] - 252s 398ms/step - loss: 0.0924 - accuracy: 0.9632 - val_loss: 0.1107 - val_accuracy: 0.9569\n",
            "Epoch 25/64\n",
            "633/633 [==============================] - ETA: 0s - loss: 0.0846 - accuracy: 0.9660\n",
            "Epoch 00025: val_loss did not improve from 0.11068\n",
            "633/633 [==============================] - 254s 401ms/step - loss: 0.0846 - accuracy: 0.9660 - val_loss: 0.1228 - val_accuracy: 0.9538\n",
            "Epoch 26/64\n",
            "633/633 [==============================] - ETA: 0s - loss: 0.1061 - accuracy: 0.9585\n",
            "Epoch 00026: val_loss did not improve from 0.11068\n",
            "633/633 [==============================] - 260s 410ms/step - loss: 0.1061 - accuracy: 0.9585 - val_loss: 0.1222 - val_accuracy: 0.9471\n",
            "Epoch 27/64\n",
            "633/633 [==============================] - ETA: 0s - loss: 0.1211 - accuracy: 0.9502\n",
            "Epoch 00027: val_loss did not improve from 0.11068\n",
            "633/633 [==============================] - 254s 401ms/step - loss: 0.1211 - accuracy: 0.9502 - val_loss: 0.2017 - val_accuracy: 0.9160\n",
            "Epoch 28/64\n",
            "633/633 [==============================] - ETA: 0s - loss: 0.1312 - accuracy: 0.9459\n",
            "Epoch 00028: val_loss did not improve from 0.11068\n",
            "633/633 [==============================] - 254s 402ms/step - loss: 0.1312 - accuracy: 0.9459 - val_loss: 0.1325 - val_accuracy: 0.9382\n",
            "Epoch 29/64\n",
            "633/633 [==============================] - ETA: 0s - loss: 0.1254 - accuracy: 0.9481\n",
            "Epoch 00029: val_loss did not improve from 0.11068\n",
            "633/633 [==============================] - 251s 397ms/step - loss: 0.1254 - accuracy: 0.9481 - val_loss: 0.1220 - val_accuracy: 0.9529\n",
            "Epoch 30/64\n",
            "633/633 [==============================] - ETA: 0s - loss: 0.1042 - accuracy: 0.9574\n",
            "Epoch 00030: val_loss improved from 0.11068 to 0.10324, saving model to drive/My Drive/collab/vgg16_larger_network_on224.h5\n",
            "633/633 [==============================] - 256s 404ms/step - loss: 0.1042 - accuracy: 0.9574 - val_loss: 0.1032 - val_accuracy: 0.9587\n",
            "Epoch 31/64\n",
            "633/633 [==============================] - ETA: 0s - loss: 0.0882 - accuracy: 0.9660\n",
            "Epoch 00031: val_loss did not improve from 0.10324\n",
            "633/633 [==============================] - 254s 402ms/step - loss: 0.0882 - accuracy: 0.9660 - val_loss: 0.1105 - val_accuracy: 0.9640\n",
            "Epoch 32/64\n",
            "633/633 [==============================] - ETA: 0s - loss: 0.0671 - accuracy: 0.9735\n",
            "Epoch 00032: val_loss improved from 0.10324 to 0.09314, saving model to drive/My Drive/collab/vgg16_larger_network_on224.h5\n",
            "633/633 [==============================] - 255s 403ms/step - loss: 0.0671 - accuracy: 0.9735 - val_loss: 0.0931 - val_accuracy: 0.9609\n",
            "Epoch 33/64\n",
            "633/633 [==============================] - ETA: 0s - loss: 0.0636 - accuracy: 0.9756\n",
            "Epoch 00033: val_loss did not improve from 0.09314\n",
            "633/633 [==============================] - 257s 406ms/step - loss: 0.0636 - accuracy: 0.9756 - val_loss: 0.0989 - val_accuracy: 0.9631\n",
            "Epoch 34/64\n",
            "633/633 [==============================] - ETA: 0s - loss: 0.0765 - accuracy: 0.9695\n",
            "Epoch 00034: val_loss did not improve from 0.09314\n",
            "633/633 [==============================] - 256s 404ms/step - loss: 0.0765 - accuracy: 0.9695 - val_loss: 0.1237 - val_accuracy: 0.9551\n",
            "Epoch 35/64\n",
            "633/633 [==============================] - ETA: 0s - loss: 0.0950 - accuracy: 0.9614\n",
            "Epoch 00035: val_loss did not improve from 0.09314\n",
            "633/633 [==============================] - 257s 406ms/step - loss: 0.0950 - accuracy: 0.9614 - val_loss: 0.1050 - val_accuracy: 0.9600\n",
            "Epoch 36/64\n",
            "633/633 [==============================] - ETA: 0s - loss: 0.1019 - accuracy: 0.9585\n",
            "Epoch 00036: val_loss did not improve from 0.09314\n",
            "633/633 [==============================] - 257s 406ms/step - loss: 0.1019 - accuracy: 0.9585 - val_loss: 0.1141 - val_accuracy: 0.9578\n",
            "Epoch 37/64\n",
            "633/633 [==============================] - ETA: 0s - loss: 0.1055 - accuracy: 0.9555\n",
            "Epoch 00037: val_loss did not improve from 0.09314\n",
            "633/633 [==============================] - 255s 403ms/step - loss: 0.1055 - accuracy: 0.9555 - val_loss: 0.0971 - val_accuracy: 0.9622\n",
            "Epoch 38/64\n",
            "633/633 [==============================] - ETA: 0s - loss: 0.0801 - accuracy: 0.9675\n",
            "Epoch 00038: val_loss improved from 0.09314 to 0.09253, saving model to drive/My Drive/collab/vgg16_larger_network_on224.h5\n",
            "633/633 [==============================] - 258s 408ms/step - loss: 0.0801 - accuracy: 0.9675 - val_loss: 0.0925 - val_accuracy: 0.9658\n",
            "Epoch 39/64\n",
            "633/633 [==============================] - ETA: 0s - loss: 0.0642 - accuracy: 0.9757\n",
            "Epoch 00039: val_loss improved from 0.09253 to 0.08847, saving model to drive/My Drive/collab/vgg16_larger_network_on224.h5\n",
            "633/633 [==============================] - 262s 415ms/step - loss: 0.0642 - accuracy: 0.9757 - val_loss: 0.0885 - val_accuracy: 0.9667\n",
            "Epoch 40/64\n",
            "633/633 [==============================] - ETA: 0s - loss: 0.0507 - accuracy: 0.9812\n",
            "Epoch 00040: val_loss did not improve from 0.08847\n",
            "633/633 [==============================] - 260s 411ms/step - loss: 0.0507 - accuracy: 0.9812 - val_loss: 0.0937 - val_accuracy: 0.9693\n",
            "Epoch 41/64\n",
            "633/633 [==============================] - ETA: 0s - loss: 0.0466 - accuracy: 0.9818\n",
            "Epoch 00041: val_loss improved from 0.08847 to 0.08458, saving model to drive/My Drive/collab/vgg16_larger_network_on224.h5\n",
            "633/633 [==============================] - 261s 412ms/step - loss: 0.0466 - accuracy: 0.9818 - val_loss: 0.0846 - val_accuracy: 0.9707\n",
            "Epoch 42/64\n",
            "633/633 [==============================] - ETA: 0s - loss: 0.0580 - accuracy: 0.9766\n",
            "Epoch 00042: val_loss did not improve from 0.08458\n",
            "633/633 [==============================] - 257s 407ms/step - loss: 0.0580 - accuracy: 0.9766 - val_loss: 0.1073 - val_accuracy: 0.9631\n",
            "Epoch 43/64\n",
            "633/633 [==============================] - ETA: 0s - loss: 0.0771 - accuracy: 0.9695\n",
            "Epoch 00043: val_loss did not improve from 0.08458\n",
            "633/633 [==============================] - 259s 409ms/step - loss: 0.0771 - accuracy: 0.9695 - val_loss: 0.1114 - val_accuracy: 0.9542\n",
            "Epoch 44/64\n",
            "633/633 [==============================] - ETA: 0s - loss: 0.0909 - accuracy: 0.9652\n",
            "Epoch 00044: val_loss did not improve from 0.08458\n",
            "633/633 [==============================] - 257s 406ms/step - loss: 0.0909 - accuracy: 0.9652 - val_loss: 0.1166 - val_accuracy: 0.9556\n",
            "Epoch 45/64\n",
            "633/633 [==============================] - ETA: 0s - loss: 0.0852 - accuracy: 0.9659\n",
            "Epoch 00045: val_loss did not improve from 0.08458\n",
            "633/633 [==============================] - 258s 407ms/step - loss: 0.0852 - accuracy: 0.9659 - val_loss: 0.0959 - val_accuracy: 0.9609\n",
            "Epoch 46/64\n",
            "633/633 [==============================] - ETA: 0s - loss: 0.0683 - accuracy: 0.9729\n",
            "Epoch 00046: val_loss improved from 0.08458 to 0.08438, saving model to drive/My Drive/collab/vgg16_larger_network_on224.h5\n",
            "633/633 [==============================] - 262s 414ms/step - loss: 0.0683 - accuracy: 0.9729 - val_loss: 0.0844 - val_accuracy: 0.9676\n",
            "Epoch 47/64\n",
            "633/633 [==============================] - ETA: 0s - loss: 0.0537 - accuracy: 0.9796\n",
            "Epoch 00047: val_loss did not improve from 0.08438\n",
            "633/633 [==============================] - 260s 410ms/step - loss: 0.0537 - accuracy: 0.9796 - val_loss: 0.0964 - val_accuracy: 0.9662\n",
            "Epoch 48/64\n",
            "633/633 [==============================] - ETA: 0s - loss: 0.0408 - accuracy: 0.9839\n",
            "Epoch 00048: val_loss did not improve from 0.08438\n",
            "633/633 [==============================] - 258s 408ms/step - loss: 0.0408 - accuracy: 0.9839 - val_loss: 0.0844 - val_accuracy: 0.9676\n",
            "Epoch 49/64\n",
            "633/633 [==============================] - ETA: 0s - loss: 0.0360 - accuracy: 0.9868\n",
            "Epoch 00049: val_loss did not improve from 0.08438\n",
            "633/633 [==============================] - 258s 408ms/step - loss: 0.0360 - accuracy: 0.9868 - val_loss: 0.0853 - val_accuracy: 0.9667\n",
            "Epoch 50/64\n",
            "633/633 [==============================] - ETA: 0s - loss: 0.0459 - accuracy: 0.9823\n",
            "Epoch 00050: val_loss did not improve from 0.08438\n",
            "633/633 [==============================] - 261s 413ms/step - loss: 0.0459 - accuracy: 0.9823 - val_loss: 0.0991 - val_accuracy: 0.9676\n",
            "Epoch 51/64\n",
            "633/633 [==============================] - ETA: 0s - loss: 0.0604 - accuracy: 0.9764\n",
            "Epoch 00051: val_loss did not improve from 0.08438\n",
            "633/633 [==============================] - 260s 410ms/step - loss: 0.0604 - accuracy: 0.9764 - val_loss: 0.1197 - val_accuracy: 0.9578\n",
            "Epoch 52/64\n",
            "633/633 [==============================] - ETA: 0s - loss: 0.0728 - accuracy: 0.9721\n",
            "Epoch 00052: val_loss did not improve from 0.08438\n",
            "633/633 [==============================] - 259s 409ms/step - loss: 0.0728 - accuracy: 0.9721 - val_loss: 0.1051 - val_accuracy: 0.9591\n",
            "Epoch 53/64\n",
            "633/633 [==============================] - ETA: 0s - loss: 0.0720 - accuracy: 0.9707\n",
            "Epoch 00053: val_loss did not improve from 0.08438\n",
            "633/633 [==============================] - 260s 410ms/step - loss: 0.0720 - accuracy: 0.9707 - val_loss: 0.0947 - val_accuracy: 0.9662\n",
            "Epoch 54/64\n",
            "633/633 [==============================] - ETA: 0s - loss: 0.0605 - accuracy: 0.9760\n",
            "Epoch 00054: val_loss improved from 0.08438 to 0.08214, saving model to drive/My Drive/collab/vgg16_larger_network_on224.h5\n",
            "633/633 [==============================] - 261s 413ms/step - loss: 0.0605 - accuracy: 0.9760 - val_loss: 0.0821 - val_accuracy: 0.9671\n",
            "Epoch 55/64\n",
            "633/633 [==============================] - ETA: 0s - loss: 0.0434 - accuracy: 0.9835\n",
            "Epoch 00055: val_loss did not improve from 0.08214\n",
            "633/633 [==============================] - 258s 408ms/step - loss: 0.0434 - accuracy: 0.9835 - val_loss: 0.0892 - val_accuracy: 0.9627\n",
            "Epoch 56/64\n",
            "633/633 [==============================] - ETA: 0s - loss: 0.0285 - accuracy: 0.9897\n",
            "Epoch 00056: val_loss did not improve from 0.08214\n",
            "633/633 [==============================] - 259s 409ms/step - loss: 0.0285 - accuracy: 0.9897 - val_loss: 0.0890 - val_accuracy: 0.9711\n",
            "Epoch 57/64\n",
            "633/633 [==============================] - ETA: 0s - loss: 0.0268 - accuracy: 0.9900\n",
            "Epoch 00057: val_loss did not improve from 0.08214\n",
            "633/633 [==============================] - 259s 410ms/step - loss: 0.0268 - accuracy: 0.9900 - val_loss: 0.0836 - val_accuracy: 0.9680\n",
            "Epoch 58/64\n",
            "633/633 [==============================] - ETA: 0s - loss: 0.0376 - accuracy: 0.9860\n",
            "Epoch 00058: val_loss did not improve from 0.08214\n",
            "633/633 [==============================] - 258s 407ms/step - loss: 0.0376 - accuracy: 0.9860 - val_loss: 0.0912 - val_accuracy: 0.9658\n",
            "Epoch 59/64\n",
            "633/633 [==============================] - ETA: 0s - loss: 0.0544 - accuracy: 0.9786\n",
            "Epoch 00059: val_loss did not improve from 0.08214\n",
            "633/633 [==============================] - 259s 409ms/step - loss: 0.0544 - accuracy: 0.9786 - val_loss: 0.1147 - val_accuracy: 0.9627\n",
            "Epoch 60/64\n",
            "633/633 [==============================] - ETA: 0s - loss: 0.0604 - accuracy: 0.9757\n",
            "Epoch 00060: val_loss did not improve from 0.08214\n",
            "633/633 [==============================] - 259s 409ms/step - loss: 0.0604 - accuracy: 0.9757 - val_loss: 0.1060 - val_accuracy: 0.9649\n",
            "Epoch 61/64\n",
            "633/633 [==============================] - ETA: 0s - loss: 0.0652 - accuracy: 0.9745\n",
            "Epoch 00061: val_loss did not improve from 0.08214\n",
            "633/633 [==============================] - 259s 409ms/step - loss: 0.0652 - accuracy: 0.9745 - val_loss: 0.0850 - val_accuracy: 0.9684\n",
            "Epoch 62/64\n",
            "633/633 [==============================] - ETA: 0s - loss: 0.0488 - accuracy: 0.9807\n",
            "Epoch 00062: val_loss did not improve from 0.08214\n",
            "633/633 [==============================] - 258s 408ms/step - loss: 0.0488 - accuracy: 0.9807 - val_loss: 0.0837 - val_accuracy: 0.9689\n",
            "Epoch 00062: early stopping\n",
            "Finished in: 4:23:28.717330\n",
            "2020-10-19 21:03:15.887391\n"
          ],
          "name": "stdout"
        }
      ]
    },
    {
      "cell_type": "code",
      "metadata": {
        "id": "YhkuJL9E51gh"
      },
      "source": [
        "# Remove old logs from tensorboard\n",
        "# ! rm -rf \"./drive/My Drive/collab/logs/\""
      ],
      "execution_count": null,
      "outputs": []
    },
    {
      "cell_type": "code",
      "metadata": {
        "id": "l_VQhH6iFFBR",
        "outputId": "1ca67b54-acea-4d0a-a96c-a0dda69fe740",
        "colab": {
          "base_uri": "https://localhost:8080/",
          "height": 330
        }
      },
      "source": [
        "training_history_plots(history, clr)"
      ],
      "execution_count": null,
      "outputs": [
        {
          "output_type": "display_data",
          "data": {
            "image/png": "[encoded data removed]",
            "text/plain": [
              "<Figure size 2160x432 with 3 Axes>"
            ]
          },
          "metadata": {
            "tags": [],
            "needs_background": "light"
          }
        }
      ]
    },
    {
      "cell_type": "code",
      "metadata": {
        "id": "lE3AHjzX0do1"
      },
      "source": [
        "# read in best version of model here\n",
        "model = tf.keras.models.load_model('drive/My Drive/collab/vgg16_' + model_version + '.h5')"
      ],
      "execution_count": null,
      "outputs": []
    },
    {
      "cell_type": "code",
      "metadata": {
        "id": "iCG5kGgJXVnt",
        "outputId": "c239944d-a3e6-4996-f97c-8c08c2bc8252",
        "colab": {
          "base_uri": "https://localhost:8080/",
          "height": 34
        }
      },
      "source": [
        "test_loss, test_acc = model.evaluate(test_generator, verbose=1)"
      ],
      "execution_count": null,
      "outputs": [
        {
          "output_type": "stream",
          "text": [
            "79/79 [==============================] - 8s 96ms/step - loss: 0.0845 - accuracy: 0.9704\n"
          ],
          "name": "stdout"
        }
      ]
    },
    {
      "cell_type": "code",
      "metadata": {
        "id": "PdG0iEN7WgVE"
      },
      "source": [
        "# preds = []\n",
        "# actuals = []\n",
        "# for i in range(78):\n",
        "#     X, y = test_generator.next()\n",
        "#     prediction = model.predict(X)\n",
        "#     preds.append(list(np.round(prediction[:, 1])))\n",
        "#     actuals.append(list(y))\n",
        "\n",
        "# actuals = [item for sublist in actuals for item in sublist]\n",
        "# preds = [item for sublist in preds for item in sublist]\n",
        "# print('Accuracy score: {}'.format(accuracy_score(actuals, preds)))\n",
        "# confusion_matrix(actuals, preds)"
      ],
      "execution_count": null,
      "outputs": []
    },
    {
      "cell_type": "code",
      "metadata": {
        "id": "ZujKXYY6yeLO"
      },
      "source": [
        "# Load some images to see if everything went right\n",
        "test_images = [COMP_DIR + x for x in os.listdir(COMP_DIR)]\n",
        "test_images.sort()\n",
        "comp_data = prep_data(test_images[:9], ROWS, COLS, CHANNELS)\n",
        "\n",
        "fig, axes = plt.subplots(3, 3, figsize=(12, 12))\n",
        "\n",
        "for i, ax in enumerate(axes.flat):\n",
        "    ax.imshow(comp_data[i])"
      ],
      "execution_count": null,
      "outputs": []
    },
    {
      "cell_type": "code",
      "metadata": {
        "id": "PTfHbdQPwGPv"
      },
      "source": [
        "predictions_comp_data = pd.DataFrame({'id': range(1, len(os.listdir(COMP_DIR)) + 1), 'label': np.clip(model.predict(comp_generator)[:, 1], 0.02, 0.98)})\n",
        "predictions_comp_data['label'] = round(predictions_comp_data['label'], 4)\n",
        "predictions_comp_data.head(9)"
      ],
      "execution_count": null,
      "outputs": []
    },
    {
      "cell_type": "code",
      "metadata": {
        "id": "LKWEuCye3-6m"
      },
      "source": [
        "predictions_comp_data.describe()"
      ],
      "execution_count": null,
      "outputs": []
    },
    {
      "cell_type": "code",
      "metadata": {
        "id": "mcHiXpQPwc6J"
      },
      "source": [
        "submission_path = 'drive/My Drive/collab/submission_simple_vgg' + str(8) + '.csv'\n",
        "predictions_comp_data.to_csv(submission_path, index=False)"
      ],
      "execution_count": null,
      "outputs": []
    },
    {
      "cell_type": "code",
      "metadata": {
        "id": "PvKqzNyStlm4"
      },
      "source": [
        "! kaggle competitions submit -c dogs-vs-cats-redux-kernels-edition -f 'drive/My Drive/collab/submission_simple_vgg8.csv' -m \"image size 224 px, clip 0.02\""
      ],
      "execution_count": null,
      "outputs": []
    },
    {
      "cell_type": "code",
      "metadata": {
        "id": "xjIzbU6GSH5S"
      },
      "source": [
        ""
      ],
      "execution_count": null,
      "outputs": []
    }
  ]
}